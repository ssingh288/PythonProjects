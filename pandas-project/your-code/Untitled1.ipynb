{
 "cells": [
  {
   "cell_type": "code",
   "execution_count": 1,
   "metadata": {},
   "outputs": [],
   "source": [
    "import re"
   ]
  },
  {
   "cell_type": "code",
   "execution_count": 13,
   "metadata": {},
   "outputs": [],
   "source": [
    "mylist = [\"11:30\",\"03:00\",\"18:00\",\"06:00\",\"20:00\",\"17:00\",\"10:00\"]"
   ]
  },
  {
   "cell_type": "code",
   "execution_count": 15,
   "metadata": {
    "scrolled": true
   },
   "outputs": [
    {
     "name": "stdout",
     "output_type": "stream",
     "text": [
      "['11:30', '03:00', '18:00', '06:00', '20:00', '17:00', '10:00'] before\n",
      "['late morning', 'night', 'evening', 'early morning', 'early night', 'afternoon', 'morning'] after\n"
     ]
    }
   ],
   "source": [
    "s=\"11:30\"\n",
    "f=\"11:00\"\n",
    "mylist = [\"11:30\",\"03:00\",\"18:00\",\"06:00\",\"20:00\",\"17:00\",\"10:00\"]\n",
    "print(mylist, \"before\")\n",
    "for i in range(len(mylist)) :\n",
    "    if re.search(\"[0][5-7]:\",mylist[i]):\n",
    "        mylist[i] = \"early morning\"\n",
    "    elif (re.search(\"[0][8-9]:\",mylist[i])) or (re.search(\"[1][0]:\",mylist[i])):\n",
    "        mylist[i] = \"morning\"\n",
    "    elif re.search(\"[1][1-2]:\",mylist[i]):\n",
    "        mylist[i] = \"late morning\"\n",
    "    elif re.search(\"[1][3-7]:\",mylist[i]):\n",
    "        mylist[i] = \"afternoon\"\n",
    "    elif re.search(\"[1][8-9]:\",mylist[i]):\n",
    "        mylist[i] = \"evening\"\n",
    "    elif re.search(\"[2][0-2]:\",mylist[i]):\n",
    "        mylist[i] = \"early night\"\n",
    "    elif re.search(\"[2][3]:\",mylist[i]) or (re.search(\"[0][0-4]:\",mylist[i])):\n",
    "        mylist[i] = \"night\"\n",
    "\n",
    "print(mylist, \"after\")"
   ]
  },
  {
   "cell_type": "code",
   "execution_count": 21,
   "metadata": {},
   "outputs": [
    {
     "name": "stdout",
     "output_type": "stream",
     "text": [
      "11:00 before\n"
     ]
    },
    {
     "data": {
      "text/plain": [
       "'late morning'"
      ]
     },
     "execution_count": 21,
     "metadata": {},
     "output_type": "execute_result"
    }
   ],
   "source": [
    "s=\"11:30\"\n",
    "f=\"11:00\"\n",
    "mylist = [\"11:30\",\"03:00\",\"18:00\",\"06:00\",\"20:00\",\"17:00\",\"10:00\"]\n",
    "print(f, \"before\")\n",
    "\n",
    "def timereplace(f):\n",
    "    if re.search(\"[0][5-7]:\",f):\n",
    "        f = \"early morning\"\n",
    "    elif (re.search(\"[0][8-9]:\",mylist[i])) or (re.search(\"[1][0]:\",f)):\n",
    "        f = \"morning\"\n",
    "    elif re.search(\"[1][1-2]:\",f):\n",
    "        f = \"late morning\"\n",
    "    elif re.search(\"[1][3-7]:\",f):\n",
    "        f= \"afternoon\"\n",
    "    elif re.search(\"[1][8-9]:\",f):\n",
    "        f = \"evening\"\n",
    "    elif re.search(\"[2][0-2]:\",f):\n",
    "        f = \"early night\"\n",
    "    elif re.search(\"[2][3]:\",mylist[i]) or (re.search(\"[0][0-4]:\",f)):\n",
    "        f = \"night\"\n",
    "    return f\n",
    "timereplace(f)"
   ]
  },
  {
   "cell_type": "code",
   "execution_count": 19,
   "metadata": {},
   "outputs": [
    {
     "data": {
      "text/plain": [
       "'11:30'"
      ]
     },
     "execution_count": 19,
     "metadata": {},
     "output_type": "execute_result"
    }
   ],
   "source": [
    "def timereplace(s):\n",
    "    if re.search(\"[0][5-7]:\",s):\n",
    "        s = \"early morning\"\n",
    "    elif (re.search(\"[0][8-9]:\",s)) or (re.search(\"[1][0]:\",s)):\n",
    "        s = \"morning\"       \n",
    "    elif re.search(\"[1][1-2]:\",s):\n",
    "        s = \"late morning\"\n",
    "    elif re.search(\"[1][3-7]:\",s):\n",
    "        s = \"afternoon\"\n",
    "    elif re.search(\"[1][8-9]:\",s):\n",
    "        s = \"evening\"\n",
    "    elif re.search(\"[2][0-2]:\",s):\n",
    "        s = \"early night\"\n",
    "    elif re.search(\"[2][3]:\",s) or (re.search(\"[0][0-4]:\",s)):\n",
    "        s = \"night\"\n",
    "    return s\n",
    "        \n",
    "f= '11:30'\n",
    "\n",
    "timereplace(f)\n",
    "\n",
    "f"
   ]
  },
  {
   "cell_type": "code",
   "execution_count": null,
   "metadata": {},
   "outputs": [],
   "source": [
    "def replaceactivity(mystring):\n",
    "    if (\"body surfing\" in mystring) or (\"boogie boarding\" in mystring):\n",
    "        mystring = \"body surfing\"\n",
    "    elif \"surf\" in mystring:\n",
    "        mystring = \"surfing\"\n",
    "    elif (\"walking\" in mystring) or (\"paddling\" in mystring):\n",
    "        mystring = \"wading\"\n",
    "    return mystring\n",
    "    "
   ]
  },
  {
   "cell_type": "code",
   "execution_count": 27,
   "metadata": {
    "scrolled": true
   },
   "outputs": [
    {
     "data": {
      "text/plain": [
       "'60'"
      ]
     },
     "execution_count": 27,
     "metadata": {},
     "output_type": "execute_result"
    }
   ],
   "source": [
    "def agereplace(agestr):\n",
    "    if re.search(\"[0-9][0-9]\",agestr):\n",
    "        m = re.search(\"[0-9][0-9]\", agestr)\n",
    "        result = m.group(0)\n",
    "        agestr = result\n",
    "    return result\n",
    "\n",
    "f = \"60s jgrknzkjgnerjn 45 78 12 54\"\n",
    "\n",
    "agereplace(f)\n"
   ]
  },
  {
   "cell_type": "code",
   "execution_count": 29,
   "metadata": {},
   "outputs": [],
   "source": [
    "import nltk"
   ]
  },
  {
   "cell_type": "code",
   "execution_count": 30,
   "metadata": {},
   "outputs": [],
   "source": [
    "import geograpy"
   ]
  },
  {
   "cell_type": "code",
   "execution_count": 34,
   "metadata": {},
   "outputs": [
    {
     "ename": "UnicodeDecodeError",
     "evalue": "'charmap' codec can't decode byte 0x8d in position 274: character maps to <undefined>",
     "output_type": "error",
     "traceback": [
      "\u001b[1;31m---------------------------------------------------------------------------\u001b[0m",
      "\u001b[1;31mUnicodeDecodeError\u001b[0m                        Traceback (most recent call last)",
      "\u001b[1;32m<ipython-input-34-f979aa779091>\u001b[0m in \u001b[0;36m<module>\u001b[1;34m\u001b[0m\n\u001b[0;32m      1\u001b[0m \u001b[0mtext1\u001b[0m \u001b[1;33m=\u001b[0m \u001b[1;34m'I am from Delhi'\u001b[0m\u001b[1;33m\u001b[0m\u001b[1;33m\u001b[0m\u001b[0m\n\u001b[1;32m----> 2\u001b[1;33m \u001b[0mplaces\u001b[0m \u001b[1;33m=\u001b[0m \u001b[0mgeograpy\u001b[0m\u001b[1;33m.\u001b[0m\u001b[0mget_place_context\u001b[0m\u001b[1;33m(\u001b[0m\u001b[0mtext\u001b[0m \u001b[1;33m=\u001b[0m \u001b[0mtext1\u001b[0m\u001b[1;33m)\u001b[0m\u001b[1;33m\u001b[0m\u001b[1;33m\u001b[0m\u001b[0m\n\u001b[0m",
      "\u001b[1;32m~\\Anaconda3\\lib\\site-packages\\geograpy\\__init__.py\u001b[0m in \u001b[0;36mget_place_context\u001b[1;34m(url, text)\u001b[0m\n\u001b[0;32m      9\u001b[0m     \u001b[0mpc\u001b[0m\u001b[1;33m.\u001b[0m\u001b[0mset_countries\u001b[0m\u001b[1;33m(\u001b[0m\u001b[1;33m)\u001b[0m\u001b[1;33m\u001b[0m\u001b[1;33m\u001b[0m\u001b[0m\n\u001b[0;32m     10\u001b[0m     \u001b[0mpc\u001b[0m\u001b[1;33m.\u001b[0m\u001b[0mset_regions\u001b[0m\u001b[1;33m(\u001b[0m\u001b[1;33m)\u001b[0m\u001b[1;33m\u001b[0m\u001b[1;33m\u001b[0m\u001b[0m\n\u001b[1;32m---> 11\u001b[1;33m     \u001b[0mpc\u001b[0m\u001b[1;33m.\u001b[0m\u001b[0mset_cities\u001b[0m\u001b[1;33m(\u001b[0m\u001b[1;33m)\u001b[0m\u001b[1;33m\u001b[0m\u001b[1;33m\u001b[0m\u001b[0m\n\u001b[0m\u001b[0;32m     12\u001b[0m     \u001b[0mpc\u001b[0m\u001b[1;33m.\u001b[0m\u001b[0mset_other\u001b[0m\u001b[1;33m(\u001b[0m\u001b[1;33m)\u001b[0m\u001b[1;33m\u001b[0m\u001b[1;33m\u001b[0m\u001b[0m\n\u001b[0;32m     13\u001b[0m \u001b[1;33m\u001b[0m\u001b[0m\n",
      "\u001b[1;32m~\\Anaconda3\\lib\\site-packages\\geograpy\\places.py\u001b[0m in \u001b[0;36mset_cities\u001b[1;34m(self)\u001b[0m\n\u001b[0;32m    135\u001b[0m \u001b[1;33m\u001b[0m\u001b[0m\n\u001b[0;32m    136\u001b[0m         \u001b[1;32mif\u001b[0m \u001b[1;32mnot\u001b[0m \u001b[0mself\u001b[0m\u001b[1;33m.\u001b[0m\u001b[0mdb_has_data\u001b[0m\u001b[1;33m(\u001b[0m\u001b[1;33m)\u001b[0m\u001b[1;33m:\u001b[0m\u001b[1;33m\u001b[0m\u001b[1;33m\u001b[0m\u001b[0m\n\u001b[1;32m--> 137\u001b[1;33m             \u001b[0mself\u001b[0m\u001b[1;33m.\u001b[0m\u001b[0mpopulate_db\u001b[0m\u001b[1;33m(\u001b[0m\u001b[1;33m)\u001b[0m\u001b[1;33m\u001b[0m\u001b[1;33m\u001b[0m\u001b[0m\n\u001b[0m\u001b[0;32m    138\u001b[0m \u001b[1;33m\u001b[0m\u001b[0m\n\u001b[0;32m    139\u001b[0m         \u001b[0mcur\u001b[0m \u001b[1;33m=\u001b[0m \u001b[0mself\u001b[0m\u001b[1;33m.\u001b[0m\u001b[0mconn\u001b[0m\u001b[1;33m.\u001b[0m\u001b[0mcursor\u001b[0m\u001b[1;33m(\u001b[0m\u001b[1;33m)\u001b[0m\u001b[1;33m\u001b[0m\u001b[1;33m\u001b[0m\u001b[0m\n",
      "\u001b[1;32m~\\Anaconda3\\lib\\site-packages\\geograpy\\places.py\u001b[0m in \u001b[0;36mpopulate_db\u001b[1;34m(self)\u001b[0m\n\u001b[0;32m     28\u001b[0m         \u001b[1;32mwith\u001b[0m \u001b[0mopen\u001b[0m\u001b[1;33m(\u001b[0m\u001b[0mcur_dir\u001b[0m \u001b[1;33m+\u001b[0m \u001b[1;34m\"/data/GeoLite2-City-Locations.csv\"\u001b[0m\u001b[1;33m)\u001b[0m \u001b[1;32mas\u001b[0m \u001b[0minfo\u001b[0m\u001b[1;33m:\u001b[0m\u001b[1;33m\u001b[0m\u001b[1;33m\u001b[0m\u001b[0m\n\u001b[0;32m     29\u001b[0m             \u001b[0mreader\u001b[0m \u001b[1;33m=\u001b[0m \u001b[0mcsv\u001b[0m\u001b[1;33m.\u001b[0m\u001b[0mreader\u001b[0m\u001b[1;33m(\u001b[0m\u001b[0minfo\u001b[0m\u001b[1;33m)\u001b[0m\u001b[1;33m\u001b[0m\u001b[1;33m\u001b[0m\u001b[0m\n\u001b[1;32m---> 30\u001b[1;33m             \u001b[1;32mfor\u001b[0m \u001b[0mrow\u001b[0m \u001b[1;32min\u001b[0m \u001b[0mreader\u001b[0m\u001b[1;33m:\u001b[0m\u001b[1;33m\u001b[0m\u001b[1;33m\u001b[0m\u001b[0m\n\u001b[0m\u001b[0;32m     31\u001b[0m                 \u001b[0mcur\u001b[0m\u001b[1;33m.\u001b[0m\u001b[0mexecute\u001b[0m\u001b[1;33m(\u001b[0m\u001b[1;34m\"INSERT INTO cities VALUES(?, ?, ?, ?, ?, ?, ?, ?, ?, ?);\"\u001b[0m\u001b[1;33m,\u001b[0m \u001b[0mrow\u001b[0m\u001b[1;33m)\u001b[0m\u001b[1;33m\u001b[0m\u001b[1;33m\u001b[0m\u001b[0m\n\u001b[0;32m     32\u001b[0m \u001b[1;33m\u001b[0m\u001b[0m\n",
      "\u001b[1;32m~\\Anaconda3\\lib\\encodings\\cp1252.py\u001b[0m in \u001b[0;36mdecode\u001b[1;34m(self, input, final)\u001b[0m\n\u001b[0;32m     21\u001b[0m \u001b[1;32mclass\u001b[0m \u001b[0mIncrementalDecoder\u001b[0m\u001b[1;33m(\u001b[0m\u001b[0mcodecs\u001b[0m\u001b[1;33m.\u001b[0m\u001b[0mIncrementalDecoder\u001b[0m\u001b[1;33m)\u001b[0m\u001b[1;33m:\u001b[0m\u001b[1;33m\u001b[0m\u001b[1;33m\u001b[0m\u001b[0m\n\u001b[0;32m     22\u001b[0m     \u001b[1;32mdef\u001b[0m \u001b[0mdecode\u001b[0m\u001b[1;33m(\u001b[0m\u001b[0mself\u001b[0m\u001b[1;33m,\u001b[0m \u001b[0minput\u001b[0m\u001b[1;33m,\u001b[0m \u001b[0mfinal\u001b[0m\u001b[1;33m=\u001b[0m\u001b[1;32mFalse\u001b[0m\u001b[1;33m)\u001b[0m\u001b[1;33m:\u001b[0m\u001b[1;33m\u001b[0m\u001b[1;33m\u001b[0m\u001b[0m\n\u001b[1;32m---> 23\u001b[1;33m         \u001b[1;32mreturn\u001b[0m \u001b[0mcodecs\u001b[0m\u001b[1;33m.\u001b[0m\u001b[0mcharmap_decode\u001b[0m\u001b[1;33m(\u001b[0m\u001b[0minput\u001b[0m\u001b[1;33m,\u001b[0m\u001b[0mself\u001b[0m\u001b[1;33m.\u001b[0m\u001b[0merrors\u001b[0m\u001b[1;33m,\u001b[0m\u001b[0mdecoding_table\u001b[0m\u001b[1;33m)\u001b[0m\u001b[1;33m[\u001b[0m\u001b[1;36m0\u001b[0m\u001b[1;33m]\u001b[0m\u001b[1;33m\u001b[0m\u001b[1;33m\u001b[0m\u001b[0m\n\u001b[0m\u001b[0;32m     24\u001b[0m \u001b[1;33m\u001b[0m\u001b[0m\n\u001b[0;32m     25\u001b[0m \u001b[1;32mclass\u001b[0m \u001b[0mStreamWriter\u001b[0m\u001b[1;33m(\u001b[0m\u001b[0mCodec\u001b[0m\u001b[1;33m,\u001b[0m\u001b[0mcodecs\u001b[0m\u001b[1;33m.\u001b[0m\u001b[0mStreamWriter\u001b[0m\u001b[1;33m)\u001b[0m\u001b[1;33m:\u001b[0m\u001b[1;33m\u001b[0m\u001b[1;33m\u001b[0m\u001b[0m\n",
      "\u001b[1;31mUnicodeDecodeError\u001b[0m: 'charmap' codec can't decode byte 0x8d in position 274: character maps to <undefined>"
     ]
    }
   ],
   "source": [
    "text1 = 'I am from Delhi'\n",
    "places = geograpy.get_place_context(text = text1)"
   ]
  },
  {
   "cell_type": "code",
   "execution_count": 36,
   "metadata": {},
   "outputs": [
    {
     "name": "stdout",
     "output_type": "stream",
     "text": [
      "Collecting geotext\n",
      "  Downloading https://files.pythonhosted.org/packages/25/c5/36351193092cb4c1d7002d2a3babe5e72ae377868473933d6f63b41e5454/geotext-0.4.0-py2.py3-none-any.whl (2.0MB)\n",
      "Installing collected packages: geotext\n",
      "Successfully installed geotext-0.4.0\n",
      "Note: you may need to restart the kernel to use updated packages.\n"
     ]
    }
   ],
   "source": [
    "pip install geotext"
   ]
  },
  {
   "cell_type": "code",
   "execution_count": 37,
   "metadata": {},
   "outputs": [],
   "source": [
    "import geotext"
   ]
  },
  {
   "cell_type": "code",
   "execution_count": 40,
   "metadata": {},
   "outputs": [
    {
     "name": "stdout",
     "output_type": "stream",
     "text": [
      "None\n"
     ]
    }
   ],
   "source": [
    "print (geotext.__doc__)"
   ]
  },
  {
   "cell_type": "code",
   "execution_count": 42,
   "metadata": {},
   "outputs": [
    {
     "data": {
      "text/plain": [
       "[]"
      ]
     },
     "execution_count": 42,
     "metadata": {},
     "output_type": "execute_result"
    }
   ],
   "source": [
    "from geotext import GeoText\n",
    "\n",
    "places = GeoText(\"London is a great city\")\n",
    "places.countries"
   ]
  },
  {
   "cell_type": "code",
   "execution_count": null,
   "metadata": {},
   "outputs": [],
   "source": [
    "def agereplace2(agestr):\n",
    "    if re.search(\"[1-1][2-7]\",agestr):     \n",
    "        agestr = \"12-17\" #switch the original text to the match\n",
    "    elif re.search(\"[1-1][8-9]\",agestr) or re.search(\"[2-2][0-4]\",agestr) : \n",
    "        agestr = \"18-24\" \n",
    "    elif re.search(\"[2-2][5-9]\",agestr) or re.search(\"[3-3][0-4]\",agestr):    \n",
    "        agestr = \"25-34\"\n",
    "    elif re.search(\"[3-3][5-9]\",agestr) or re.search(\"[4-4][0-4]\",agestr):    \n",
    "        agestr = \"35-44\"\n",
    "    elif re.search(\"[4-4][5-9]\",agestr) or re.search(\"[5-5][0-4]\",agestr) :     \n",
    "        agestr = \"45-54\"\n",
    "    elif re.search(\"[5-5][5-9]\",agestr) or re.search(\"[6-6][0-4]\",agestr):    \n",
    "        agestr = \"55-64\"\n",
    "    elif re.search(\"[6-6][5-9]\",agestr) or re.search(\"[7-7][0-4]\",agestr):    \n",
    "        agestr = \"65-74\"\n",
    "    elif re.search(\"[7-7][5-9]\",agestr) or re.search(\"[8-9][0-9]\",agestr) :    \n",
    "        agestr = \"75 and over\"\n",
    "    elif re.search(\"[\\d+?]\",agestr) or re.search(\"[1-1][0-1]\",agestr):    \n",
    "        agestr = \"under 12\"\n",
    "    return agestr"
   ]
  },
  {
   "cell_type": "code",
   "execution_count": null,
   "metadata": {},
   "outputs": [],
   "source": [
    "#df['new column name'] = df['df column_name'].apply(lambda x: 'value if condition is met' if x condition else 'value if condition is not met')"
   ]
  },
  {
   "cell_type": "code",
   "execution_count": null,
   "metadata": {},
   "outputs": [],
   "source": [
    "def bodypart(strg):\n",
    "    lower_limb = [\"foot\", \"feet\", \"ankle\", \"knee\", \"leg\", \"thigh\", \"calf\", \"calves\",\"heel\",\"toe\", \"buttock\"]\n",
    "    upper_limb = [\"hand\", \"arm\", \"finger\", \"wrist\", \"elbow\", \"shoulder\"]\n",
    "    abdomen = [\"torso\", \"abdomen\"]\n",
    "    head = [\"head\", \"neck\"]\n",
    "    lst = [lower_limb, upper_limb, abdomen, head]\n",
    "    name_list = [\"lower limbs\", \"upper limbs\", \"abdomen\", \"head or neck\"]\n",
    "    import re\n",
    "    \n",
    "    for i in range(len(lst)):\n",
    "        if re.compile('|'.join(lst[i]),re.IGNORECASE).search(strg): \n",
    "            strg = name_list[i]\n",
    "    if \"no injury\" in strg :\n",
    "        strg = \"no injury\"\n",
    "        \n",
    "    return strg"
   ]
  },
  {
   "cell_type": "code",
   "execution_count": null,
   "metadata": {},
   "outputs": [],
   "source": [
    "df['new column name'] = df['df column_name'].apply(lambda x: 'value if condition is met' if x condition else 'value if condition is not met')"
   ]
  }
 ],
 "metadata": {
  "kernelspec": {
   "display_name": "Python 3",
   "language": "python",
   "name": "python3"
  },
  "language_info": {
   "codemirror_mode": {
    "name": "ipython",
    "version": 3
   },
   "file_extension": ".py",
   "mimetype": "text/x-python",
   "name": "python",
   "nbconvert_exporter": "python",
   "pygments_lexer": "ipython3",
   "version": "3.7.3"
  }
 },
 "nbformat": 4,
 "nbformat_minor": 2
}
