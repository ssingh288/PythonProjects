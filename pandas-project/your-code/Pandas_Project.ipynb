{
 "cells": [
  {
   "cell_type": "markdown",
   "metadata": {},
   "source": [
    "\"By understanding when and why shark attacks occur, it is possible to lessen the likelihood of these incidents.\"\n",
    "This database aims to categorize shark attacks, bringing useful information to visualize patterns of causes and effects."
   ]
  },
  {
   "cell_type": "code",
   "execution_count": 3,
   "metadata": {},
   "outputs": [],
   "source": [
    "import pandas as pd"
   ]
  },
  {
   "cell_type": "code",
   "execution_count": 4,
   "metadata": {},
   "outputs": [],
   "source": [
    "# The file wouldn't read properly, returning this error :\n",
    "# \"UnicodeDecodeError: 'utf8' codec can't decode byte 0x9c\"\n",
    "# a quick google search gave me an answer: adding \"engine = \"python\"\" to the read code."
   ]
  },
  {
   "cell_type": "code",
   "execution_count": 5,
   "metadata": {},
   "outputs": [],
   "source": [
    "df= pd.read_csv('C:\\\\Users\\\\Arty\\\\Desktop\\\\julia\\\\IronHack\\\\SharkAttack\\\\GSAF5.csv\\\\GSAF5.csv', engine='python')\n"
   ]
  },
  {
   "cell_type": "code",
   "execution_count": 6,
   "metadata": {},
   "outputs": [
    {
     "data": {
      "text/plain": [
       "(5992, 24)"
      ]
     },
     "execution_count": 6,
     "metadata": {},
     "output_type": "execute_result"
    }
   ],
   "source": [
    "#Let's examine the data quickly.\n",
    "df.shape #24 columns and almost 6000 rows."
   ]
  },
  {
   "cell_type": "code",
   "execution_count": 7,
   "metadata": {
    "scrolled": true
   },
   "outputs": [
    {
     "data": {
      "text/html": [
       "<div>\n",
       "<style scoped>\n",
       "    .dataframe tbody tr th:only-of-type {\n",
       "        vertical-align: middle;\n",
       "    }\n",
       "\n",
       "    .dataframe tbody tr th {\n",
       "        vertical-align: top;\n",
       "    }\n",
       "\n",
       "    .dataframe thead th {\n",
       "        text-align: right;\n",
       "    }\n",
       "</style>\n",
       "<table border=\"1\" class=\"dataframe\">\n",
       "  <thead>\n",
       "    <tr style=\"text-align: right;\">\n",
       "      <th></th>\n",
       "      <th>Year</th>\n",
       "      <th>original order</th>\n",
       "    </tr>\n",
       "  </thead>\n",
       "  <tbody>\n",
       "    <tr>\n",
       "      <th>count</th>\n",
       "      <td>5992.000000</td>\n",
       "      <td>5992.000000</td>\n",
       "    </tr>\n",
       "    <tr>\n",
       "      <th>mean</th>\n",
       "      <td>1925.204606</td>\n",
       "      <td>2997.548899</td>\n",
       "    </tr>\n",
       "    <tr>\n",
       "      <th>std</th>\n",
       "      <td>286.473712</td>\n",
       "      <td>1729.860210</td>\n",
       "    </tr>\n",
       "    <tr>\n",
       "      <th>min</th>\n",
       "      <td>0.000000</td>\n",
       "      <td>2.000000</td>\n",
       "    </tr>\n",
       "    <tr>\n",
       "      <th>25%</th>\n",
       "      <td>1942.000000</td>\n",
       "      <td>1499.750000</td>\n",
       "    </tr>\n",
       "    <tr>\n",
       "      <th>50%</th>\n",
       "      <td>1975.000000</td>\n",
       "      <td>2997.500000</td>\n",
       "    </tr>\n",
       "    <tr>\n",
       "      <th>75%</th>\n",
       "      <td>2003.000000</td>\n",
       "      <td>4495.250000</td>\n",
       "    </tr>\n",
       "    <tr>\n",
       "      <th>max</th>\n",
       "      <td>2016.000000</td>\n",
       "      <td>5993.000000</td>\n",
       "    </tr>\n",
       "  </tbody>\n",
       "</table>\n",
       "</div>"
      ],
      "text/plain": [
       "              Year  original order\n",
       "count  5992.000000     5992.000000\n",
       "mean   1925.204606     2997.548899\n",
       "std     286.473712     1729.860210\n",
       "min       0.000000        2.000000\n",
       "25%    1942.000000     1499.750000\n",
       "50%    1975.000000     2997.500000\n",
       "75%    2003.000000     4495.250000\n",
       "max    2016.000000     5993.000000"
      ]
     },
     "execution_count": 7,
     "metadata": {},
     "output_type": "execute_result"
    }
   ],
   "source": [
    "# The \"describe\" method doesn't return a lot of information, since the df houses mostly str data.\n",
    "df.describe()"
   ]
  },
  {
   "cell_type": "code",
   "execution_count": 8,
   "metadata": {},
   "outputs": [
    {
     "data": {
      "text/plain": [
       "Case Number               object\n",
       "Date                      object\n",
       "Year                       int64\n",
       "Type                      object\n",
       "Country                   object\n",
       "Area                      object\n",
       "Location                  object\n",
       "Activity                  object\n",
       "Name                      object\n",
       "Sex                       object\n",
       "Age                       object\n",
       "Injury                    object\n",
       "Fatal (Y/N)               object\n",
       "Time                      object\n",
       "Species                   object\n",
       "Investigator or Source    object\n",
       "pdf                       object\n",
       "href formula              object\n",
       "href                      object\n",
       "Case Number.1             object\n",
       "Case Number.2             object\n",
       "original order             int64\n",
       "Unnamed: 22               object\n",
       "Unnamed: 23               object\n",
       "dtype: object"
      ]
     },
     "execution_count": 8,
     "metadata": {},
     "output_type": "execute_result"
    }
   ],
   "source": [
    "df.dtypes"
   ]
  },
  {
   "cell_type": "code",
   "execution_count": 9,
   "metadata": {},
   "outputs": [
    {
     "data": {
      "text/plain": [
       "Index(['Case Number', 'Date', 'Year', 'Type', 'Country', 'Area', 'Location',\n",
       "       'Activity', 'Name', 'Sex ', 'Age', 'Injury', 'Fatal (Y/N)', 'Time',\n",
       "       'Species ', 'Investigator or Source', 'pdf', 'href formula', 'href',\n",
       "       'Case Number.1', 'Case Number.2', 'original order', 'Unnamed: 22',\n",
       "       'Unnamed: 23'],\n",
       "      dtype='object')"
      ]
     },
     "execution_count": 9,
     "metadata": {},
     "output_type": "execute_result"
    }
   ],
   "source": [
    "# Trying to understand what kind of data is in the df.\n",
    "df.columns"
   ]
  },
  {
   "cell_type": "markdown",
   "metadata": {},
   "source": [
    "'Case Number' :case number is composed of the date, followed by a letter, if there were multiple cases on the same day. ex : 2016.09.18.c\n",
    "\n",
    "'Date' : date, with the format dd-mmm-yy    ex: 17-Sep-16\n",
    "\n",
    "'Year' : yyyy, int format \n",
    "\n",
    "'Type' :  5 types, see below.\n",
    "\n",
    "'Country','Area' ,'Location' : self explanatory\n",
    "\n",
    "'Activity'\n",
    "\n",
    "'Name' : not always a name, sometimes just \"male\" or \"a native\" or \"unknown\"\n",
    "\n",
    "'Sex ' : \n",
    "'Age'\n",
    "'Injury'\n",
    "'Fatal (Y/N)'\n",
    "'Time'\n",
    "'Species '\n",
    "'Investigator or Source'\n",
    "\n",
    "'pdf': name of the pdf file containing the attack data\n",
    "\n",
    "'href formula' : url to the pdf\n",
    "\n",
    "'href' : also url\n",
    "\n",
    "'Case Number.1' : seems to be the same as \"Case Number\", we will check later on.\n",
    "\n",
    "'Case Number.2' : the same as above\n",
    "\n",
    "'original order' : order of cases added to the db\n",
    "\n",
    "'Unnamed: 22', : seems to be completely empty, probably added by mistake. We'll check later on.\n",
    "\n",
    "'Unnamed: 23' : same as above."
   ]
  },
  {
   "cell_type": "code",
   "execution_count": 10,
   "metadata": {
    "scrolled": true
   },
   "outputs": [
    {
     "data": {
      "text/plain": [
       "Unprovoked      4386\n",
       "Provoked         557\n",
       "Invalid          519\n",
       "Sea Disaster     220\n",
       "Boat             200\n",
       "Boating          110\n",
       "Name: Type, dtype: int64"
      ]
     },
     "execution_count": 10,
     "metadata": {},
     "output_type": "execute_result"
    }
   ],
   "source": [
    "# I checked the columns with \"value_counts\" to have an overview of the different data they contain.\n",
    "df.Type.value_counts()"
   ]
  },
  {
   "cell_type": "code",
   "execution_count": 11,
   "metadata": {},
   "outputs": [
    {
     "ename": "AttributeError",
     "evalue": "'DataFrame' object has no attribute 'Sex'",
     "output_type": "error",
     "traceback": [
      "\u001b[1;31m---------------------------------------------------------------------------\u001b[0m",
      "\u001b[1;31mAttributeError\u001b[0m                            Traceback (most recent call last)",
      "\u001b[1;32m<ipython-input-11-514aa72fdd1f>\u001b[0m in \u001b[0;36m<module>\u001b[1;34m\u001b[0m\n\u001b[1;32m----> 1\u001b[1;33m \u001b[0mdf\u001b[0m\u001b[1;33m.\u001b[0m\u001b[0mSex\u001b[0m \u001b[1;33m.\u001b[0m\u001b[0mvalue_counts\u001b[0m\u001b[1;33m(\u001b[0m\u001b[1;33m)\u001b[0m\u001b[1;33m\u001b[0m\u001b[1;33m\u001b[0m\u001b[0m\n\u001b[0m\u001b[0;32m      2\u001b[0m \u001b[1;31m#Trying to check the \"Sex\" column returns an error, as the name has a space at the end.\u001b[0m\u001b[1;33m\u001b[0m\u001b[1;33m\u001b[0m\u001b[1;33m\u001b[0m\u001b[0m\n\u001b[0;32m      3\u001b[0m \u001b[1;31m# I'll clean the column names to access them easier later on.\u001b[0m\u001b[1;33m\u001b[0m\u001b[1;33m\u001b[0m\u001b[1;33m\u001b[0m\u001b[0m\n",
      "\u001b[1;32m~\\Anaconda3\\lib\\site-packages\\pandas\\core\\generic.py\u001b[0m in \u001b[0;36m__getattr__\u001b[1;34m(self, name)\u001b[0m\n\u001b[0;32m   5065\u001b[0m             \u001b[1;32mif\u001b[0m \u001b[0mself\u001b[0m\u001b[1;33m.\u001b[0m\u001b[0m_info_axis\u001b[0m\u001b[1;33m.\u001b[0m\u001b[0m_can_hold_identifiers_and_holds_name\u001b[0m\u001b[1;33m(\u001b[0m\u001b[0mname\u001b[0m\u001b[1;33m)\u001b[0m\u001b[1;33m:\u001b[0m\u001b[1;33m\u001b[0m\u001b[1;33m\u001b[0m\u001b[0m\n\u001b[0;32m   5066\u001b[0m                 \u001b[1;32mreturn\u001b[0m \u001b[0mself\u001b[0m\u001b[1;33m[\u001b[0m\u001b[0mname\u001b[0m\u001b[1;33m]\u001b[0m\u001b[1;33m\u001b[0m\u001b[1;33m\u001b[0m\u001b[0m\n\u001b[1;32m-> 5067\u001b[1;33m             \u001b[1;32mreturn\u001b[0m \u001b[0mobject\u001b[0m\u001b[1;33m.\u001b[0m\u001b[0m__getattribute__\u001b[0m\u001b[1;33m(\u001b[0m\u001b[0mself\u001b[0m\u001b[1;33m,\u001b[0m \u001b[0mname\u001b[0m\u001b[1;33m)\u001b[0m\u001b[1;33m\u001b[0m\u001b[1;33m\u001b[0m\u001b[0m\n\u001b[0m\u001b[0;32m   5068\u001b[0m \u001b[1;33m\u001b[0m\u001b[0m\n\u001b[0;32m   5069\u001b[0m     \u001b[1;32mdef\u001b[0m \u001b[0m__setattr__\u001b[0m\u001b[1;33m(\u001b[0m\u001b[0mself\u001b[0m\u001b[1;33m,\u001b[0m \u001b[0mname\u001b[0m\u001b[1;33m,\u001b[0m \u001b[0mvalue\u001b[0m\u001b[1;33m)\u001b[0m\u001b[1;33m:\u001b[0m\u001b[1;33m\u001b[0m\u001b[1;33m\u001b[0m\u001b[0m\n",
      "\u001b[1;31mAttributeError\u001b[0m: 'DataFrame' object has no attribute 'Sex'"
     ]
    }
   ],
   "source": [
    "df.Sex .value_counts()\n",
    "#Trying to check the \"Sex\" column returns an error, as the name has a space at the end.\n",
    "# I'll clean the column names to access them easier later on."
   ]
  },
  {
   "cell_type": "markdown",
   "metadata": {},
   "source": [
    "# Cleaning the column names"
   ]
  },
  {
   "cell_type": "markdown",
   "metadata": {},
   "source": [
    "The column names are inconsistent : blank spaces, punctuation, lower and upper case letters...\n",
    "These are difficult to work with, so I will clean  them."
   ]
  },
  {
   "cell_type": "code",
   "execution_count": 12,
   "metadata": {},
   "outputs": [
    {
     "data": {
      "text/plain": [
       "Index(['case_number', 'date', 'year', 'type', 'country', 'area', 'location',\n",
       "       'activity', 'name', 'sex', 'age', 'injury', 'fatal_yn', 'time',\n",
       "       'species', 'investigator_or_source', 'pdf', 'href_formula', 'href',\n",
       "       'case_number1', 'case_number2', 'original_order', 'unnamed_22',\n",
       "       'unnamed_23'],\n",
       "      dtype='object')"
      ]
     },
     "execution_count": 12,
     "metadata": {},
     "output_type": "execute_result"
    }
   ],
   "source": [
    "df.columns = df.columns.str.strip().str.replace(' ', '_').str.replace(\":\",\"\").str.replace(\"(\",\"\").str.replace(\")\",\"\")\n",
    "df.columns = df.columns.str.replace(\"/\",\"\").str.lower().str.replace(\".\",\"\")\n",
    "df.columns"
   ]
  },
  {
   "cell_type": "code",
   "execution_count": 13,
   "metadata": {},
   "outputs": [
    {
     "ename": "AttributeError",
     "evalue": "'DataFrame' object has no attribute 'Sex'",
     "output_type": "error",
     "traceback": [
      "\u001b[1;31m---------------------------------------------------------------------------\u001b[0m",
      "\u001b[1;31mAttributeError\u001b[0m                            Traceback (most recent call last)",
      "\u001b[1;32m<ipython-input-13-0bcb6e635df8>\u001b[0m in \u001b[0;36m<module>\u001b[1;34m\u001b[0m\n\u001b[1;32m----> 1\u001b[1;33m \u001b[0mdf\u001b[0m\u001b[1;33m.\u001b[0m\u001b[0mSex\u001b[0m\u001b[1;33m.\u001b[0m\u001b[0mvalue_counts\u001b[0m\u001b[1;33m(\u001b[0m\u001b[1;33m)\u001b[0m \u001b[1;31m#now it works !\u001b[0m\u001b[1;33m\u001b[0m\u001b[1;33m\u001b[0m\u001b[0m\n\u001b[0m",
      "\u001b[1;32m~\\Anaconda3\\lib\\site-packages\\pandas\\core\\generic.py\u001b[0m in \u001b[0;36m__getattr__\u001b[1;34m(self, name)\u001b[0m\n\u001b[0;32m   5065\u001b[0m             \u001b[1;32mif\u001b[0m \u001b[0mself\u001b[0m\u001b[1;33m.\u001b[0m\u001b[0m_info_axis\u001b[0m\u001b[1;33m.\u001b[0m\u001b[0m_can_hold_identifiers_and_holds_name\u001b[0m\u001b[1;33m(\u001b[0m\u001b[0mname\u001b[0m\u001b[1;33m)\u001b[0m\u001b[1;33m:\u001b[0m\u001b[1;33m\u001b[0m\u001b[1;33m\u001b[0m\u001b[0m\n\u001b[0;32m   5066\u001b[0m                 \u001b[1;32mreturn\u001b[0m \u001b[0mself\u001b[0m\u001b[1;33m[\u001b[0m\u001b[0mname\u001b[0m\u001b[1;33m]\u001b[0m\u001b[1;33m\u001b[0m\u001b[1;33m\u001b[0m\u001b[0m\n\u001b[1;32m-> 5067\u001b[1;33m             \u001b[1;32mreturn\u001b[0m \u001b[0mobject\u001b[0m\u001b[1;33m.\u001b[0m\u001b[0m__getattribute__\u001b[0m\u001b[1;33m(\u001b[0m\u001b[0mself\u001b[0m\u001b[1;33m,\u001b[0m \u001b[0mname\u001b[0m\u001b[1;33m)\u001b[0m\u001b[1;33m\u001b[0m\u001b[1;33m\u001b[0m\u001b[0m\n\u001b[0m\u001b[0;32m   5068\u001b[0m \u001b[1;33m\u001b[0m\u001b[0m\n\u001b[0;32m   5069\u001b[0m     \u001b[1;32mdef\u001b[0m \u001b[0m__setattr__\u001b[0m\u001b[1;33m(\u001b[0m\u001b[0mself\u001b[0m\u001b[1;33m,\u001b[0m \u001b[0mname\u001b[0m\u001b[1;33m,\u001b[0m \u001b[0mvalue\u001b[0m\u001b[1;33m)\u001b[0m\u001b[1;33m:\u001b[0m\u001b[1;33m\u001b[0m\u001b[1;33m\u001b[0m\u001b[0m\n",
      "\u001b[1;31mAttributeError\u001b[0m: 'DataFrame' object has no attribute 'Sex'"
     ]
    }
   ],
   "source": [
    "df.Sex.value_counts() #now it works !"
   ]
  },
  {
   "cell_type": "markdown",
   "metadata": {},
   "source": [
    "From this quick overview, the next steps could be:\n",
    "\n",
    "- check if the columns case_number, case_number1, case_number2 contain identical data, if they do, drop 2 of them.\n",
    "- check if 'href_formula' and 'href' contain identical data. If they do, drop one of them.\n",
    "- check if unnamed_22 and unnamed_23 contain any data. If they don't, drop them.\n",
    "- it could be interesting to convert the data from the \"date\", and \"time\" columns to datetime types.\n",
    "- Dropping unnecessary columns."
   ]
  },
  {
   "cell_type": "markdown",
   "metadata": {},
   "source": [
    "# Unnecessary columns (information that isn't useful)"
   ]
  },
  {
   "cell_type": "markdown",
   "metadata": {},
   "source": [
    "The \"name\" column doesn't add any info to the nature of the attacks. \n",
    "I shall drop it.\n",
    "ALso, the \"original order\" column doesn't seem necessary, since some rows are going to be deleted.\n",
    "\"investigator_or_source\" lists the press coverage of the event. This source is also cited in the pdf of the event, accessible by the link in \"href\". I will drop \"invetigator_or_source\""
   ]
  },
  {
   "cell_type": "code",
   "execution_count": 14,
   "metadata": {},
   "outputs": [],
   "source": [
    "df = df.drop(\"name\", axis=1)"
   ]
  },
  {
   "cell_type": "code",
   "execution_count": 15,
   "metadata": {},
   "outputs": [],
   "source": [
    "df = df.drop(\"original_order\", axis=1)"
   ]
  },
  {
   "cell_type": "code",
   "execution_count": 16,
   "metadata": {},
   "outputs": [],
   "source": [
    "df = df.drop(\"investigator_or_source\", axis=1)"
   ]
  },
  {
   "cell_type": "code",
   "execution_count": 17,
   "metadata": {},
   "outputs": [
    {
     "data": {
      "text/html": [
       "<div>\n",
       "<style scoped>\n",
       "    .dataframe tbody tr th:only-of-type {\n",
       "        vertical-align: middle;\n",
       "    }\n",
       "\n",
       "    .dataframe tbody tr th {\n",
       "        vertical-align: top;\n",
       "    }\n",
       "\n",
       "    .dataframe thead th {\n",
       "        text-align: right;\n",
       "    }\n",
       "</style>\n",
       "<table border=\"1\" class=\"dataframe\">\n",
       "  <thead>\n",
       "    <tr style=\"text-align: right;\">\n",
       "      <th></th>\n",
       "      <th>case_number</th>\n",
       "      <th>date</th>\n",
       "      <th>year</th>\n",
       "      <th>type</th>\n",
       "      <th>country</th>\n",
       "      <th>area</th>\n",
       "      <th>location</th>\n",
       "      <th>activity</th>\n",
       "      <th>sex</th>\n",
       "      <th>age</th>\n",
       "      <th>...</th>\n",
       "      <th>fatal_yn</th>\n",
       "      <th>time</th>\n",
       "      <th>species</th>\n",
       "      <th>pdf</th>\n",
       "      <th>href_formula</th>\n",
       "      <th>href</th>\n",
       "      <th>case_number1</th>\n",
       "      <th>case_number2</th>\n",
       "      <th>unnamed_22</th>\n",
       "      <th>unnamed_23</th>\n",
       "    </tr>\n",
       "  </thead>\n",
       "  <tbody>\n",
       "    <tr>\n",
       "      <th>0</th>\n",
       "      <td>2016.09.18.c</td>\n",
       "      <td>18-Sep-16</td>\n",
       "      <td>2016</td>\n",
       "      <td>Unprovoked</td>\n",
       "      <td>USA</td>\n",
       "      <td>Florida</td>\n",
       "      <td>New Smyrna Beach, Volusia County</td>\n",
       "      <td>Surfing</td>\n",
       "      <td>M</td>\n",
       "      <td>16</td>\n",
       "      <td>...</td>\n",
       "      <td>N</td>\n",
       "      <td>13h00</td>\n",
       "      <td>NaN</td>\n",
       "      <td>2016.09.18.c-NSB.pdf</td>\n",
       "      <td>http://sharkattackfile.net/spreadsheets/pdf_di...</td>\n",
       "      <td>http://sharkattackfile.net/spreadsheets/pdf_di...</td>\n",
       "      <td>2016.09.18.c</td>\n",
       "      <td>2016.09.18.c</td>\n",
       "      <td>NaN</td>\n",
       "      <td>NaN</td>\n",
       "    </tr>\n",
       "    <tr>\n",
       "      <th>1</th>\n",
       "      <td>2016.09.18.b</td>\n",
       "      <td>18-Sep-16</td>\n",
       "      <td>2016</td>\n",
       "      <td>Unprovoked</td>\n",
       "      <td>USA</td>\n",
       "      <td>Florida</td>\n",
       "      <td>New Smyrna Beach, Volusia County</td>\n",
       "      <td>Surfing</td>\n",
       "      <td>M</td>\n",
       "      <td>36</td>\n",
       "      <td>...</td>\n",
       "      <td>N</td>\n",
       "      <td>11h00</td>\n",
       "      <td>NaN</td>\n",
       "      <td>2016.09.18.b-Luciano.pdf</td>\n",
       "      <td>http://sharkattackfile.net/spreadsheets/pdf_di...</td>\n",
       "      <td>http://sharkattackfile.net/spreadsheets/pdf_di...</td>\n",
       "      <td>2016.09.18.b</td>\n",
       "      <td>2016.09.18.b</td>\n",
       "      <td>NaN</td>\n",
       "      <td>NaN</td>\n",
       "    </tr>\n",
       "    <tr>\n",
       "      <th>2</th>\n",
       "      <td>2016.09.18.a</td>\n",
       "      <td>18-Sep-16</td>\n",
       "      <td>2016</td>\n",
       "      <td>Unprovoked</td>\n",
       "      <td>USA</td>\n",
       "      <td>Florida</td>\n",
       "      <td>New Smyrna Beach, Volusia County</td>\n",
       "      <td>Surfing</td>\n",
       "      <td>M</td>\n",
       "      <td>43</td>\n",
       "      <td>...</td>\n",
       "      <td>N</td>\n",
       "      <td>10h43</td>\n",
       "      <td>NaN</td>\n",
       "      <td>2016.09.18.a-NSB.pdf</td>\n",
       "      <td>http://sharkattackfile.net/spreadsheets/pdf_di...</td>\n",
       "      <td>http://sharkattackfile.net/spreadsheets/pdf_di...</td>\n",
       "      <td>2016.09.18.a</td>\n",
       "      <td>2016.09.18.a</td>\n",
       "      <td>NaN</td>\n",
       "      <td>NaN</td>\n",
       "    </tr>\n",
       "    <tr>\n",
       "      <th>3</th>\n",
       "      <td>2016.09.17</td>\n",
       "      <td>17-Sep-16</td>\n",
       "      <td>2016</td>\n",
       "      <td>Unprovoked</td>\n",
       "      <td>AUSTRALIA</td>\n",
       "      <td>Victoria</td>\n",
       "      <td>Thirteenth Beach</td>\n",
       "      <td>Surfing</td>\n",
       "      <td>M</td>\n",
       "      <td>NaN</td>\n",
       "      <td>...</td>\n",
       "      <td>N</td>\n",
       "      <td>NaN</td>\n",
       "      <td>NaN</td>\n",
       "      <td>2016.09.17-Angiolella.pdf</td>\n",
       "      <td>http://sharkattackfile.net/spreadsheets/pdf_di...</td>\n",
       "      <td>http://sharkattackfile.net/spreadsheets/pdf_di...</td>\n",
       "      <td>2016.09.17</td>\n",
       "      <td>2016.09.17</td>\n",
       "      <td>NaN</td>\n",
       "      <td>NaN</td>\n",
       "    </tr>\n",
       "    <tr>\n",
       "      <th>4</th>\n",
       "      <td>2016.09.15</td>\n",
       "      <td>16-Sep-16</td>\n",
       "      <td>2016</td>\n",
       "      <td>Unprovoked</td>\n",
       "      <td>AUSTRALIA</td>\n",
       "      <td>Victoria</td>\n",
       "      <td>Bells Beach</td>\n",
       "      <td>Surfing</td>\n",
       "      <td>M</td>\n",
       "      <td>NaN</td>\n",
       "      <td>...</td>\n",
       "      <td>N</td>\n",
       "      <td>NaN</td>\n",
       "      <td>2 m shark</td>\n",
       "      <td>2016.09.16-BellsBeach.pdf</td>\n",
       "      <td>http://sharkattackfile.net/spreadsheets/pdf_di...</td>\n",
       "      <td>http://sharkattackfile.net/spreadsheets/pdf_di...</td>\n",
       "      <td>2016.09.16</td>\n",
       "      <td>2016.09.15</td>\n",
       "      <td>NaN</td>\n",
       "      <td>NaN</td>\n",
       "    </tr>\n",
       "  </tbody>\n",
       "</table>\n",
       "<p>5 rows × 21 columns</p>\n",
       "</div>"
      ],
      "text/plain": [
       "    case_number       date  year        type    country      area  \\\n",
       "0  2016.09.18.c  18-Sep-16  2016  Unprovoked        USA   Florida   \n",
       "1  2016.09.18.b  18-Sep-16  2016  Unprovoked        USA   Florida   \n",
       "2  2016.09.18.a  18-Sep-16  2016  Unprovoked        USA   Florida   \n",
       "3    2016.09.17  17-Sep-16  2016  Unprovoked  AUSTRALIA  Victoria   \n",
       "4    2016.09.15  16-Sep-16  2016  Unprovoked  AUSTRALIA  Victoria   \n",
       "\n",
       "                           location activity sex  age  ... fatal_yn   time  \\\n",
       "0  New Smyrna Beach, Volusia County  Surfing   M   16  ...        N  13h00   \n",
       "1  New Smyrna Beach, Volusia County  Surfing   M   36  ...        N  11h00   \n",
       "2  New Smyrna Beach, Volusia County  Surfing   M   43  ...        N  10h43   \n",
       "3                  Thirteenth Beach  Surfing   M  NaN  ...        N    NaN   \n",
       "4                       Bells Beach  Surfing   M  NaN  ...        N    NaN   \n",
       "\n",
       "     species                        pdf  \\\n",
       "0        NaN       2016.09.18.c-NSB.pdf   \n",
       "1        NaN   2016.09.18.b-Luciano.pdf   \n",
       "2        NaN       2016.09.18.a-NSB.pdf   \n",
       "3        NaN  2016.09.17-Angiolella.pdf   \n",
       "4  2 m shark  2016.09.16-BellsBeach.pdf   \n",
       "\n",
       "                                        href_formula  \\\n",
       "0  http://sharkattackfile.net/spreadsheets/pdf_di...   \n",
       "1  http://sharkattackfile.net/spreadsheets/pdf_di...   \n",
       "2  http://sharkattackfile.net/spreadsheets/pdf_di...   \n",
       "3  http://sharkattackfile.net/spreadsheets/pdf_di...   \n",
       "4  http://sharkattackfile.net/spreadsheets/pdf_di...   \n",
       "\n",
       "                                                href  case_number1  \\\n",
       "0  http://sharkattackfile.net/spreadsheets/pdf_di...  2016.09.18.c   \n",
       "1  http://sharkattackfile.net/spreadsheets/pdf_di...  2016.09.18.b   \n",
       "2  http://sharkattackfile.net/spreadsheets/pdf_di...  2016.09.18.a   \n",
       "3  http://sharkattackfile.net/spreadsheets/pdf_di...    2016.09.17   \n",
       "4  http://sharkattackfile.net/spreadsheets/pdf_di...    2016.09.16   \n",
       "\n",
       "   case_number2 unnamed_22 unnamed_23  \n",
       "0  2016.09.18.c        NaN        NaN  \n",
       "1  2016.09.18.b        NaN        NaN  \n",
       "2  2016.09.18.a        NaN        NaN  \n",
       "3    2016.09.17        NaN        NaN  \n",
       "4    2016.09.15        NaN        NaN  \n",
       "\n",
       "[5 rows x 21 columns]"
      ]
     },
     "execution_count": 17,
     "metadata": {},
     "output_type": "execute_result"
    }
   ],
   "source": [
    "df.head()"
   ]
  },
  {
   "cell_type": "markdown",
   "metadata": {},
   "source": [
    "# Checking if the suspected columns contain identical data, and dropping the double up columns."
   ]
  },
  {
   "cell_type": "code",
   "execution_count": 18,
   "metadata": {
    "scrolled": true
   },
   "outputs": [
    {
     "data": {
      "text/plain": [
       "True     99.97\n",
       "False     0.03\n",
       "dtype: float64"
      ]
     },
     "execution_count": 18,
     "metadata": {},
     "output_type": "execute_result"
    }
   ],
   "source": [
    "same = (df['case_number']==df['case_number2'])\n",
    "same.value_counts()\n",
    "#We quickly see that \"case_number\" and \"case_number2\" contain almost identical data.\n",
    "#Let's verify this assumption.\n",
    "perc = round((same.value_counts() / len(same))*100,2)\n",
    "perc\n",
    "#These columns contain identical value, for 99,97%. Let's drop column case_number2."
   ]
  },
  {
   "cell_type": "code",
   "execution_count": 19,
   "metadata": {},
   "outputs": [],
   "source": [
    "df = df.drop(\"case_number2\", axis=1)"
   ]
  },
  {
   "cell_type": "code",
   "execution_count": 20,
   "metadata": {
    "scrolled": true
   },
   "outputs": [],
   "source": [
    "#Let's do the same with the other columns that might contain identical data.\n",
    "same = (df['case_number']==df['case_number1'])\n",
    "same.value_counts()\n",
    "perc = round((same.value_counts() / len(same))*100,2)\n",
    "#perc is over 99% again, so we're dropping \"case_number1\""
   ]
  },
  {
   "cell_type": "code",
   "execution_count": 21,
   "metadata": {},
   "outputs": [],
   "source": [
    "df = df.drop(\"case_number1\", axis=1)"
   ]
  },
  {
   "cell_type": "code",
   "execution_count": 22,
   "metadata": {},
   "outputs": [],
   "source": [
    "same = (df['href_formula']==df['href'])\n",
    "same.value_counts()\n",
    "perc = round((same.value_counts() / len(same))*100,2)\n",
    "#Again, over 99%, so we're dropping one of the 2.\n",
    "df = df.drop(\"href_formula\", axis=1)"
   ]
  },
  {
   "cell_type": "markdown",
   "metadata": {},
   "source": [
    "# Checking if the \"unnamed_22\" and 23 columns contain any data, if not, dropping them."
   ]
  },
  {
   "cell_type": "code",
   "execution_count": 23,
   "metadata": {
    "scrolled": true
   },
   "outputs": [
    {
     "data": {
      "text/plain": [
       "country        0.72\n",
       "area           6.71\n",
       "location       8.28\n",
       "activity       8.80\n",
       "sex            9.46\n",
       "age           44.74\n",
       "injury         0.45\n",
       "fatal_yn       0.32\n",
       "time          53.62\n",
       "species       48.97\n",
       "href           0.05\n",
       "unnamed_22    99.98\n",
       "unnamed_23    99.97\n",
       "dtype: float64"
      ]
     },
     "execution_count": 23,
     "metadata": {},
     "output_type": "execute_result"
    }
   ],
   "source": [
    "#Lets get a quick overview of all the NaN percentages.\n",
    "null_cols = df.isnull().sum()\n",
    "#only for the columns that contain NaN\n",
    "null_perc=round(null_cols[null_cols>0]/df.shape[0]*100,2)\n",
    "null_perc\n",
    "#We see that the \"unnamed\" columns are over 99% empty. Let's drop them."
   ]
  },
  {
   "cell_type": "code",
   "execution_count": 24,
   "metadata": {},
   "outputs": [],
   "source": [
    "df = df.drop(\"unnamed_22\", axis=1)\n",
    "df = df.drop(\"unnamed_23\", axis=1)"
   ]
  },
  {
   "cell_type": "code",
   "execution_count": 25,
   "metadata": {},
   "outputs": [],
   "source": [
    "# Also going to drop \"pdf\" as the href column provides a direct link to the pdf."
   ]
  },
  {
   "cell_type": "code",
   "execution_count": 26,
   "metadata": {},
   "outputs": [],
   "source": [
    "df =df.drop(\"pdf\", axis=1)"
   ]
  },
  {
   "cell_type": "markdown",
   "metadata": {},
   "source": [
    "# Duplicate rows ?"
   ]
  },
  {
   "cell_type": "markdown",
   "metadata": {},
   "source": [
    "We've checked the columns for duplicates and NaN. Now let's check if there are any duplicate rows."
   ]
  },
  {
   "cell_type": "code",
   "execution_count": 27,
   "metadata": {
    "scrolled": true
   },
   "outputs": [
    {
     "name": "stdout",
     "output_type": "stream",
     "text": [
      "Number of duplicates dropped: 0\n"
     ]
    }
   ],
   "source": [
    "before = len(df)\n",
    "df =df.drop_duplicates()\n",
    "after = len(df)\n",
    "print(\"Number of duplicates dropped:\", str(before-after))\n",
    "\n",
    "#The df didn't contain any exact duplicate rows. However, this is very rare in any case."
   ]
  },
  {
   "cell_type": "markdown",
   "metadata": {},
   "source": [
    "# Numerical data"
   ]
  },
  {
   "cell_type": "markdown",
   "metadata": {},
   "source": [
    "Let's check what kind of numerical data we have."
   ]
  },
  {
   "cell_type": "code",
   "execution_count": 28,
   "metadata": {
    "scrolled": true
   },
   "outputs": [
    {
     "data": {
      "text/plain": [
       "case_number    object\n",
       "date           object\n",
       "year            int64\n",
       "type           object\n",
       "country        object\n",
       "area           object\n",
       "location       object\n",
       "activity       object\n",
       "sex            object\n",
       "age            object\n",
       "injury         object\n",
       "fatal_yn       object\n",
       "time           object\n",
       "species        object\n",
       "href           object\n",
       "dtype: object"
      ]
     },
     "execution_count": 28,
     "metadata": {},
     "output_type": "execute_result"
    }
   ],
   "source": [
    "df.dtypes"
   ]
  },
  {
   "cell_type": "markdown",
   "metadata": {},
   "source": [
    "# Text errors"
   ]
  },
  {
   "cell_type": "code",
   "execution_count": 29,
   "metadata": {
    "scrolled": true
   },
   "outputs": [
    {
     "data": {
      "text/plain": [
       "N          4315\n",
       "Y          1552\n",
       "UNKNOWN      94\n",
       " N            8\n",
       "#VALUE!       1\n",
       "F             1\n",
       "n             1\n",
       "N             1\n",
       "Name: fatal_yn, dtype: int64"
      ]
     },
     "execution_count": 29,
     "metadata": {},
     "output_type": "execute_result"
    }
   ],
   "source": [
    "df.fatal_yn.value_counts()\n",
    "#The data in \"fatal\" isn't homogeneous. Let's clean it."
   ]
  },
  {
   "cell_type": "code",
   "execution_count": 30,
   "metadata": {
    "scrolled": true
   },
   "outputs": [
    {
     "data": {
      "text/plain": [
       "N          4325\n",
       "Y          1552\n",
       "UNKNOWN      94\n",
       "#VALUE!       1\n",
       "F             1\n",
       "Name: fatal_yn, dtype: int64"
      ]
     },
     "execution_count": 30,
     "metadata": {},
     "output_type": "execute_result"
    }
   ],
   "source": [
    "df.fatal_yn=df.fatal_yn.str.strip().str.upper()\n",
    "df.fatal_yn.value_counts()"
   ]
  },
  {
   "cell_type": "code",
   "execution_count": 31,
   "metadata": {},
   "outputs": [],
   "source": [
    "# I want to drop the rows where \"fatal_yn\" isn't Y or N.\n",
    "df = df[df[\"fatal_yn\"].isin([\"Y\",\"N\"])]\n"
   ]
  },
  {
   "cell_type": "code",
   "execution_count": 32,
   "metadata": {},
   "outputs": [
    {
     "data": {
      "text/plain": [
       "(5877, 15)"
      ]
     },
     "execution_count": 32,
     "metadata": {},
     "output_type": "execute_result"
    }
   ],
   "source": [
    "df.shape"
   ]
  },
  {
   "cell_type": "code",
   "execution_count": 33,
   "metadata": {},
   "outputs": [],
   "source": [
    "# Cleaning the country column values"
   ]
  },
  {
   "cell_type": "code",
   "execution_count": 34,
   "metadata": {},
   "outputs": [
    {
     "data": {
      "text/plain": [
       "USA                               2088\n",
       "AUSTRALIA                         1251\n",
       "SOUTH AFRICA                       559\n",
       "PAPUA NEW GUINEA                   131\n",
       "NEW ZEALAND                        122\n",
       "BRAZIL                             100\n",
       "BAHAMAS                             98\n",
       "MEXICO                              82\n",
       "ITALY                               66\n",
       "FIJI                                64\n",
       "PHILIPPINES                         58\n",
       "REUNION                             57\n",
       "NEW CALEDONIA                       51\n",
       "MOZAMBIQUE                          43\n",
       "CUBA                                41\n",
       "SPAIN                               38\n",
       "EGYPT                               36\n",
       "PANAMA                              32\n",
       "JAPAN                               32\n",
       "INDIA                               31\n",
       "CROATIA                             30\n",
       "IRAN                                29\n",
       "SOLOMON ISLANDS                     28\n",
       "HONG KONG                           24\n",
       "GREECE                              24\n",
       "JAMAICA                             23\n",
       "FRENCH POLYNESIA                    22\n",
       "INDONESIA                           20\n",
       "PACIFIC OCEAN                       19\n",
       "ENGLAND                             19\n",
       "                                  ... \n",
       "RED SEA / INDIAN OCEAN               1\n",
       "FEDERATED STATES OF MICRONESIA       1\n",
       "TUVALU                               1\n",
       "ASIA                                 1\n",
       "OCEAN                                1\n",
       "EGYPT / ISRAEL                       1\n",
       "GUYANA                               1\n",
       "MONACO                               1\n",
       "BRITISH NEW GUINEA                   1\n",
       "NORWAY                               1\n",
       "MID-PACIFC OCEAN                     1\n",
       "IRELAND                              1\n",
       "GUATEMALA                            1\n",
       "MARTINIQUE                           1\n",
       "CYPRUS                               1\n",
       "TASMAN SEA                           1\n",
       "ALGERIA                              1\n",
       "CURACAO                              1\n",
       "MALDIVE ISLANDS                      1\n",
       "PALESTINIAN TERRITORIES              1\n",
       "ST HELENA                            1\n",
       "ANGOLA                               1\n",
       "ANTIGUA                              1\n",
       "BANGLADESH                           1\n",
       "SYRIA                                1\n",
       "CRETE                                1\n",
       "NORTH SEA                            1\n",
       "SOUTH CHINA SEA                      1\n",
       "ADMIRALTY ISLANDS                    1\n",
       "BAY OF BENGAL                        1\n",
       "Name: country, Length: 186, dtype: int64"
      ]
     },
     "execution_count": 34,
     "metadata": {},
     "output_type": "execute_result"
    }
   ],
   "source": [
    "df.country= df.country.str.strip(\" ?\").str.upper()\n",
    "df.country.value_counts()"
   ]
  },
  {
   "cell_type": "code",
   "execution_count": 35,
   "metadata": {},
   "outputs": [],
   "source": [
    "import numpy as np"
   ]
  },
  {
   "cell_type": "markdown",
   "metadata": {},
   "source": [
    "# Looping to strip all columns at once\n",
    "\n",
    "because I don't really have to do the same thing 20 times"
   ]
  },
  {
   "cell_type": "code",
   "execution_count": 36,
   "metadata": {},
   "outputs": [],
   "source": [
    "for col in df.select_dtypes([np.object]):\n",
    "    df[col] = df[col].str.strip(\" \\\".\")"
   ]
  },
  {
   "cell_type": "code",
   "execution_count": 37,
   "metadata": {},
   "outputs": [
    {
     "data": {
      "text/html": [
       "<div>\n",
       "<style scoped>\n",
       "    .dataframe tbody tr th:only-of-type {\n",
       "        vertical-align: middle;\n",
       "    }\n",
       "\n",
       "    .dataframe tbody tr th {\n",
       "        vertical-align: top;\n",
       "    }\n",
       "\n",
       "    .dataframe thead th {\n",
       "        text-align: right;\n",
       "    }\n",
       "</style>\n",
       "<table border=\"1\" class=\"dataframe\">\n",
       "  <thead>\n",
       "    <tr style=\"text-align: right;\">\n",
       "      <th></th>\n",
       "      <th>case_number</th>\n",
       "      <th>date</th>\n",
       "      <th>year</th>\n",
       "      <th>type</th>\n",
       "      <th>country</th>\n",
       "      <th>area</th>\n",
       "      <th>location</th>\n",
       "      <th>activity</th>\n",
       "      <th>sex</th>\n",
       "      <th>age</th>\n",
       "      <th>injury</th>\n",
       "      <th>fatal_yn</th>\n",
       "      <th>time</th>\n",
       "      <th>species</th>\n",
       "      <th>href</th>\n",
       "    </tr>\n",
       "  </thead>\n",
       "  <tbody>\n",
       "    <tr>\n",
       "      <th>0</th>\n",
       "      <td>2016.09.18.c</td>\n",
       "      <td>18-Sep-16</td>\n",
       "      <td>2016</td>\n",
       "      <td>Unprovoked</td>\n",
       "      <td>USA</td>\n",
       "      <td>Florida</td>\n",
       "      <td>New Smyrna Beach, Volusia County</td>\n",
       "      <td>Surfing</td>\n",
       "      <td>M</td>\n",
       "      <td>16</td>\n",
       "      <td>Minor injury to thigh</td>\n",
       "      <td>N</td>\n",
       "      <td>13h00</td>\n",
       "      <td>NaN</td>\n",
       "      <td>http://sharkattackfile.net/spreadsheets/pdf_di...</td>\n",
       "    </tr>\n",
       "    <tr>\n",
       "      <th>1</th>\n",
       "      <td>2016.09.18.b</td>\n",
       "      <td>18-Sep-16</td>\n",
       "      <td>2016</td>\n",
       "      <td>Unprovoked</td>\n",
       "      <td>USA</td>\n",
       "      <td>Florida</td>\n",
       "      <td>New Smyrna Beach, Volusia County</td>\n",
       "      <td>Surfing</td>\n",
       "      <td>M</td>\n",
       "      <td>36</td>\n",
       "      <td>Lacerations to hands</td>\n",
       "      <td>N</td>\n",
       "      <td>11h00</td>\n",
       "      <td>NaN</td>\n",
       "      <td>http://sharkattackfile.net/spreadsheets/pdf_di...</td>\n",
       "    </tr>\n",
       "    <tr>\n",
       "      <th>2</th>\n",
       "      <td>2016.09.18.a</td>\n",
       "      <td>18-Sep-16</td>\n",
       "      <td>2016</td>\n",
       "      <td>Unprovoked</td>\n",
       "      <td>USA</td>\n",
       "      <td>Florida</td>\n",
       "      <td>New Smyrna Beach, Volusia County</td>\n",
       "      <td>Surfing</td>\n",
       "      <td>M</td>\n",
       "      <td>43</td>\n",
       "      <td>Lacerations to lower leg</td>\n",
       "      <td>N</td>\n",
       "      <td>10h43</td>\n",
       "      <td>NaN</td>\n",
       "      <td>http://sharkattackfile.net/spreadsheets/pdf_di...</td>\n",
       "    </tr>\n",
       "    <tr>\n",
       "      <th>3</th>\n",
       "      <td>2016.09.17</td>\n",
       "      <td>17-Sep-16</td>\n",
       "      <td>2016</td>\n",
       "      <td>Unprovoked</td>\n",
       "      <td>AUSTRALIA</td>\n",
       "      <td>Victoria</td>\n",
       "      <td>Thirteenth Beach</td>\n",
       "      <td>Surfing</td>\n",
       "      <td>M</td>\n",
       "      <td>NaN</td>\n",
       "      <td>Struck by fin on chest &amp; leg</td>\n",
       "      <td>N</td>\n",
       "      <td>NaN</td>\n",
       "      <td>NaN</td>\n",
       "      <td>http://sharkattackfile.net/spreadsheets/pdf_di...</td>\n",
       "    </tr>\n",
       "    <tr>\n",
       "      <th>4</th>\n",
       "      <td>2016.09.15</td>\n",
       "      <td>16-Sep-16</td>\n",
       "      <td>2016</td>\n",
       "      <td>Unprovoked</td>\n",
       "      <td>AUSTRALIA</td>\n",
       "      <td>Victoria</td>\n",
       "      <td>Bells Beach</td>\n",
       "      <td>Surfing</td>\n",
       "      <td>M</td>\n",
       "      <td>NaN</td>\n",
       "      <td>No injury: Knocked off board by shark</td>\n",
       "      <td>N</td>\n",
       "      <td>NaN</td>\n",
       "      <td>2 m shark</td>\n",
       "      <td>http://sharkattackfile.net/spreadsheets/pdf_di...</td>\n",
       "    </tr>\n",
       "  </tbody>\n",
       "</table>\n",
       "</div>"
      ],
      "text/plain": [
       "    case_number       date  year        type    country      area  \\\n",
       "0  2016.09.18.c  18-Sep-16  2016  Unprovoked        USA   Florida   \n",
       "1  2016.09.18.b  18-Sep-16  2016  Unprovoked        USA   Florida   \n",
       "2  2016.09.18.a  18-Sep-16  2016  Unprovoked        USA   Florida   \n",
       "3    2016.09.17  17-Sep-16  2016  Unprovoked  AUSTRALIA  Victoria   \n",
       "4    2016.09.15  16-Sep-16  2016  Unprovoked  AUSTRALIA  Victoria   \n",
       "\n",
       "                           location activity sex  age  \\\n",
       "0  New Smyrna Beach, Volusia County  Surfing   M   16   \n",
       "1  New Smyrna Beach, Volusia County  Surfing   M   36   \n",
       "2  New Smyrna Beach, Volusia County  Surfing   M   43   \n",
       "3                  Thirteenth Beach  Surfing   M  NaN   \n",
       "4                       Bells Beach  Surfing   M  NaN   \n",
       "\n",
       "                                  injury fatal_yn   time    species  \\\n",
       "0                  Minor injury to thigh        N  13h00        NaN   \n",
       "1                   Lacerations to hands        N  11h00        NaN   \n",
       "2               Lacerations to lower leg        N  10h43        NaN   \n",
       "3           Struck by fin on chest & leg        N    NaN        NaN   \n",
       "4  No injury: Knocked off board by shark        N    NaN  2 m shark   \n",
       "\n",
       "                                                href  \n",
       "0  http://sharkattackfile.net/spreadsheets/pdf_di...  \n",
       "1  http://sharkattackfile.net/spreadsheets/pdf_di...  \n",
       "2  http://sharkattackfile.net/spreadsheets/pdf_di...  \n",
       "3  http://sharkattackfile.net/spreadsheets/pdf_di...  \n",
       "4  http://sharkattackfile.net/spreadsheets/pdf_di...  "
      ]
     },
     "execution_count": 37,
     "metadata": {},
     "output_type": "execute_result"
    }
   ],
   "source": [
    "df.head()"
   ]
  },
  {
   "cell_type": "markdown",
   "metadata": {},
   "source": [
    "# Checking NaNs :"
   ]
  },
  {
   "cell_type": "code",
   "execution_count": 38,
   "metadata": {
    "scrolled": true
   },
   "outputs": [
    {
     "data": {
      "text/plain": [
       "country      0.68\n",
       "area         6.55\n",
       "location     8.10\n",
       "activity     8.01\n",
       "sex          8.83\n",
       "age         43.97\n",
       "time        52.94\n",
       "species     48.48\n",
       "href         0.05\n",
       "dtype: float64"
      ]
     },
     "execution_count": 38,
     "metadata": {},
     "output_type": "execute_result"
    }
   ],
   "source": [
    "null_cols = df.isnull().sum()\n",
    "nan_perc=round(null_cols[null_cols>0]/df.shape[0]*100,2)\n",
    "nan_perc"
   ]
  },
  {
   "cell_type": "code",
   "execution_count": 39,
   "metadata": {
    "scrolled": true
   },
   "outputs": [
    {
     "ename": "KeyError",
     "evalue": "['investigator_or_source']",
     "output_type": "error",
     "traceback": [
      "\u001b[1;31m---------------------------------------------------------------------------\u001b[0m",
      "\u001b[1;31mKeyError\u001b[0m                                  Traceback (most recent call last)",
      "\u001b[1;32m<ipython-input-39-cf71c65575fb>\u001b[0m in \u001b[0;36m<module>\u001b[1;34m\u001b[0m\n\u001b[0;32m      1\u001b[0m \u001b[1;31m#I will drop the rows with NaN values in the columns with <1% NaN.\u001b[0m\u001b[1;33m\u001b[0m\u001b[1;33m\u001b[0m\u001b[1;33m\u001b[0m\u001b[0m\n\u001b[0;32m      2\u001b[0m \u001b[0mnull_drop\u001b[0m \u001b[1;33m=\u001b[0m \u001b[0mnan_perc\u001b[0m\u001b[1;33m[\u001b[0m\u001b[0mnan_perc\u001b[0m\u001b[1;33m<\u001b[0m\u001b[1;36m1\u001b[0m\u001b[1;33m]\u001b[0m\u001b[1;33m.\u001b[0m\u001b[0mindex\u001b[0m  \u001b[1;31m#this is the list of columns where I'll drop the NaN rows\u001b[0m\u001b[1;33m\u001b[0m\u001b[1;33m\u001b[0m\u001b[0m\n\u001b[1;32m----> 3\u001b[1;33m \u001b[0mdf\u001b[0m\u001b[1;33m=\u001b[0m \u001b[0mdf\u001b[0m\u001b[1;33m.\u001b[0m\u001b[0mdropna\u001b[0m\u001b[1;33m(\u001b[0m\u001b[0msubset\u001b[0m\u001b[1;33m=\u001b[0m\u001b[1;33m[\u001b[0m\u001b[1;34m'country'\u001b[0m\u001b[1;33m,\u001b[0m \u001b[1;34m'investigator_or_source'\u001b[0m\u001b[1;33m,\u001b[0m \u001b[1;34m'href'\u001b[0m\u001b[1;33m]\u001b[0m\u001b[1;33m)\u001b[0m\u001b[1;33m\u001b[0m\u001b[1;33m\u001b[0m\u001b[0m\n\u001b[0m\u001b[0;32m      4\u001b[0m \u001b[0mdf\u001b[0m\u001b[1;33m.\u001b[0m\u001b[0mshape\u001b[0m\u001b[1;33m\u001b[0m\u001b[1;33m\u001b[0m\u001b[0m\n",
      "\u001b[1;32m~\\Anaconda3\\lib\\site-packages\\pandas\\core\\frame.py\u001b[0m in \u001b[0;36mdropna\u001b[1;34m(self, axis, how, thresh, subset, inplace)\u001b[0m\n\u001b[0;32m   4579\u001b[0m                 \u001b[0mcheck\u001b[0m \u001b[1;33m=\u001b[0m \u001b[0mindices\u001b[0m \u001b[1;33m==\u001b[0m \u001b[1;33m-\u001b[0m\u001b[1;36m1\u001b[0m\u001b[1;33m\u001b[0m\u001b[1;33m\u001b[0m\u001b[0m\n\u001b[0;32m   4580\u001b[0m                 \u001b[1;32mif\u001b[0m \u001b[0mcheck\u001b[0m\u001b[1;33m.\u001b[0m\u001b[0many\u001b[0m\u001b[1;33m(\u001b[0m\u001b[1;33m)\u001b[0m\u001b[1;33m:\u001b[0m\u001b[1;33m\u001b[0m\u001b[1;33m\u001b[0m\u001b[0m\n\u001b[1;32m-> 4581\u001b[1;33m                     \u001b[1;32mraise\u001b[0m \u001b[0mKeyError\u001b[0m\u001b[1;33m(\u001b[0m\u001b[0mlist\u001b[0m\u001b[1;33m(\u001b[0m\u001b[0mnp\u001b[0m\u001b[1;33m.\u001b[0m\u001b[0mcompress\u001b[0m\u001b[1;33m(\u001b[0m\u001b[0mcheck\u001b[0m\u001b[1;33m,\u001b[0m \u001b[0msubset\u001b[0m\u001b[1;33m)\u001b[0m\u001b[1;33m)\u001b[0m\u001b[1;33m)\u001b[0m\u001b[1;33m\u001b[0m\u001b[1;33m\u001b[0m\u001b[0m\n\u001b[0m\u001b[0;32m   4582\u001b[0m                 \u001b[0magg_obj\u001b[0m \u001b[1;33m=\u001b[0m \u001b[0mself\u001b[0m\u001b[1;33m.\u001b[0m\u001b[0mtake\u001b[0m\u001b[1;33m(\u001b[0m\u001b[0mindices\u001b[0m\u001b[1;33m,\u001b[0m \u001b[0maxis\u001b[0m\u001b[1;33m=\u001b[0m\u001b[0magg_axis\u001b[0m\u001b[1;33m)\u001b[0m\u001b[1;33m\u001b[0m\u001b[1;33m\u001b[0m\u001b[0m\n\u001b[0;32m   4583\u001b[0m \u001b[1;33m\u001b[0m\u001b[0m\n",
      "\u001b[1;31mKeyError\u001b[0m: ['investigator_or_source']"
     ]
    }
   ],
   "source": [
    "#I will drop the rows with NaN values in the columns with <1% NaN.\n",
    "null_drop = nan_perc[nan_perc<1].index  #this is the list of columns where I'll drop the NaN rows\n",
    "df= df.dropna(subset=['country', 'investigator_or_source', 'href'])\n",
    "df.shape"
   ]
  },
  {
   "cell_type": "code",
   "execution_count": 40,
   "metadata": {
    "scrolled": false
   },
   "outputs": [
    {
     "data": {
      "text/plain": [
       "country      0.68\n",
       "area         6.55\n",
       "location     8.10\n",
       "activity     8.01\n",
       "sex          8.83\n",
       "age         43.97\n",
       "time        52.94\n",
       "species     48.48\n",
       "href         0.05\n",
       "dtype: float64"
      ]
     },
     "execution_count": 40,
     "metadata": {},
     "output_type": "execute_result"
    }
   ],
   "source": [
    "null_cols = df.isnull().sum()\n",
    "nan_perc=round(null_cols[null_cols>0]/df.shape[0]*100,2)\n",
    "nan_perc"
   ]
  },
  {
   "cell_type": "code",
   "execution_count": 41,
   "metadata": {},
   "outputs": [],
   "source": [
    "# I tried dropping rows using the \"thresh\" argument in the dropna method, \n",
    "# testing if there were rows with more than one \"NaN\".\n",
    "# There were no such rows."
   ]
  },
  {
   "cell_type": "markdown",
   "metadata": {},
   "source": [
    "# Replacing NaNs"
   ]
  },
  {
   "cell_type": "code",
   "execution_count": 42,
   "metadata": {},
   "outputs": [
    {
     "data": {
      "text/plain": [
       "NOT AVAILABLE                           3111\n",
       "Afternoon                                174\n",
       "11h00                                    122\n",
       "Morning                                  108\n",
       "12h00                                    107\n",
       "15h00                                    100\n",
       "14h00                                     94\n",
       "16h00                                     92\n",
       "16h30                                     72\n",
       "13h00                                     70\n",
       "14h30                                     70\n",
       "17h30                                     69\n",
       "17h00                                     63\n",
       "15h30                                     62\n",
       "18h00                                     61\n",
       "11h30                                     61\n",
       "Night                                     58\n",
       "13h30                                     56\n",
       "10h00                                     53\n",
       "09h00                                     46\n",
       "10h30                                     45\n",
       "Evening                                   34\n",
       "12h30                                     33\n",
       "09h30                                     31\n",
       "Late afternoon                            31\n",
       "07h30                                     30\n",
       "08h00                                     28\n",
       "18h30                                     27\n",
       "08h30                                     25\n",
       "19h00                                     23\n",
       "                                        ... \n",
       "13h06                                      1\n",
       "Between 11h00 & 12h00                      1\n",
       "Possibly same incident as 2000.08.21       1\n",
       "After lunch                                1\n",
       "07h08                                      1\n",
       "17h11                                      1\n",
       "830                                        1\n",
       "13h53                                      1\n",
       "02h45                                      1\n",
       "13h37                                      1\n",
       "10h30 or 13h30                             1\n",
       "02h30                                      1\n",
       "06h50                                      1\n",
       "16h14                                      1\n",
       "13h23                                      1\n",
       "night                                      1\n",
       "Before daybreak                            1\n",
       "16h12                                      1\n",
       "17h35                                      1\n",
       "Daybreak                                   1\n",
       "shortly before dusk                        1\n",
       "Late morning                               1\n",
       "13h345                                     1\n",
       "14h30 / 15h30                              1\n",
       "15h52                                      1\n",
       "14h21                                      1\n",
       "16h23                                      1\n",
       "09h11                                      1\n",
       "1600                                       1\n",
       "18h25                                      1\n",
       "Name: time, Length: 349, dtype: int64"
      ]
     },
     "execution_count": 42,
     "metadata": {},
     "output_type": "execute_result"
    }
   ],
   "source": [
    "df_test = df[\"time\"].fillna(\"NOT AVAILABLE\")\n",
    "df_test.value_counts()"
   ]
  },
  {
   "cell_type": "code",
   "execution_count": 43,
   "metadata": {},
   "outputs": [],
   "source": [
    "#Testing how to replace NaNs, I almost replaced my whole dataset with a series \n",
    "#(keeping only the column i was working on)"
   ]
  },
  {
   "cell_type": "code",
   "execution_count": 44,
   "metadata": {},
   "outputs": [],
   "source": [
    "nan_cols = df.columns[df.isna().any()].tolist()\n",
    "df[nan_cols] = df[nan_cols].fillna(\"NOT AVAILABLE\")"
   ]
  },
  {
   "cell_type": "code",
   "execution_count": 45,
   "metadata": {
    "scrolled": true
   },
   "outputs": [
    {
     "data": {
      "text/html": [
       "<div>\n",
       "<style scoped>\n",
       "    .dataframe tbody tr th:only-of-type {\n",
       "        vertical-align: middle;\n",
       "    }\n",
       "\n",
       "    .dataframe tbody tr th {\n",
       "        vertical-align: top;\n",
       "    }\n",
       "\n",
       "    .dataframe thead th {\n",
       "        text-align: right;\n",
       "    }\n",
       "</style>\n",
       "<table border=\"1\" class=\"dataframe\">\n",
       "  <thead>\n",
       "    <tr style=\"text-align: right;\">\n",
       "      <th></th>\n",
       "      <th>case_number</th>\n",
       "      <th>date</th>\n",
       "      <th>year</th>\n",
       "      <th>type</th>\n",
       "      <th>country</th>\n",
       "      <th>area</th>\n",
       "      <th>location</th>\n",
       "      <th>activity</th>\n",
       "      <th>sex</th>\n",
       "      <th>age</th>\n",
       "      <th>injury</th>\n",
       "      <th>fatal_yn</th>\n",
       "      <th>time</th>\n",
       "      <th>species</th>\n",
       "      <th>href</th>\n",
       "    </tr>\n",
       "  </thead>\n",
       "  <tbody>\n",
       "    <tr>\n",
       "      <th>0</th>\n",
       "      <td>2016.09.18.c</td>\n",
       "      <td>18-Sep-16</td>\n",
       "      <td>2016</td>\n",
       "      <td>Unprovoked</td>\n",
       "      <td>USA</td>\n",
       "      <td>Florida</td>\n",
       "      <td>New Smyrna Beach, Volusia County</td>\n",
       "      <td>Surfing</td>\n",
       "      <td>M</td>\n",
       "      <td>16</td>\n",
       "      <td>Minor injury to thigh</td>\n",
       "      <td>N</td>\n",
       "      <td>13h00</td>\n",
       "      <td>NOT AVAILABLE</td>\n",
       "      <td>http://sharkattackfile.net/spreadsheets/pdf_di...</td>\n",
       "    </tr>\n",
       "    <tr>\n",
       "      <th>1</th>\n",
       "      <td>2016.09.18.b</td>\n",
       "      <td>18-Sep-16</td>\n",
       "      <td>2016</td>\n",
       "      <td>Unprovoked</td>\n",
       "      <td>USA</td>\n",
       "      <td>Florida</td>\n",
       "      <td>New Smyrna Beach, Volusia County</td>\n",
       "      <td>Surfing</td>\n",
       "      <td>M</td>\n",
       "      <td>36</td>\n",
       "      <td>Lacerations to hands</td>\n",
       "      <td>N</td>\n",
       "      <td>11h00</td>\n",
       "      <td>NOT AVAILABLE</td>\n",
       "      <td>http://sharkattackfile.net/spreadsheets/pdf_di...</td>\n",
       "    </tr>\n",
       "    <tr>\n",
       "      <th>2</th>\n",
       "      <td>2016.09.18.a</td>\n",
       "      <td>18-Sep-16</td>\n",
       "      <td>2016</td>\n",
       "      <td>Unprovoked</td>\n",
       "      <td>USA</td>\n",
       "      <td>Florida</td>\n",
       "      <td>New Smyrna Beach, Volusia County</td>\n",
       "      <td>Surfing</td>\n",
       "      <td>M</td>\n",
       "      <td>43</td>\n",
       "      <td>Lacerations to lower leg</td>\n",
       "      <td>N</td>\n",
       "      <td>10h43</td>\n",
       "      <td>NOT AVAILABLE</td>\n",
       "      <td>http://sharkattackfile.net/spreadsheets/pdf_di...</td>\n",
       "    </tr>\n",
       "    <tr>\n",
       "      <th>3</th>\n",
       "      <td>2016.09.17</td>\n",
       "      <td>17-Sep-16</td>\n",
       "      <td>2016</td>\n",
       "      <td>Unprovoked</td>\n",
       "      <td>AUSTRALIA</td>\n",
       "      <td>Victoria</td>\n",
       "      <td>Thirteenth Beach</td>\n",
       "      <td>Surfing</td>\n",
       "      <td>M</td>\n",
       "      <td>NOT AVAILABLE</td>\n",
       "      <td>Struck by fin on chest &amp; leg</td>\n",
       "      <td>N</td>\n",
       "      <td>NOT AVAILABLE</td>\n",
       "      <td>NOT AVAILABLE</td>\n",
       "      <td>http://sharkattackfile.net/spreadsheets/pdf_di...</td>\n",
       "    </tr>\n",
       "    <tr>\n",
       "      <th>4</th>\n",
       "      <td>2016.09.15</td>\n",
       "      <td>16-Sep-16</td>\n",
       "      <td>2016</td>\n",
       "      <td>Unprovoked</td>\n",
       "      <td>AUSTRALIA</td>\n",
       "      <td>Victoria</td>\n",
       "      <td>Bells Beach</td>\n",
       "      <td>Surfing</td>\n",
       "      <td>M</td>\n",
       "      <td>NOT AVAILABLE</td>\n",
       "      <td>No injury: Knocked off board by shark</td>\n",
       "      <td>N</td>\n",
       "      <td>NOT AVAILABLE</td>\n",
       "      <td>2 m shark</td>\n",
       "      <td>http://sharkattackfile.net/spreadsheets/pdf_di...</td>\n",
       "    </tr>\n",
       "  </tbody>\n",
       "</table>\n",
       "</div>"
      ],
      "text/plain": [
       "    case_number       date  year        type    country      area  \\\n",
       "0  2016.09.18.c  18-Sep-16  2016  Unprovoked        USA   Florida   \n",
       "1  2016.09.18.b  18-Sep-16  2016  Unprovoked        USA   Florida   \n",
       "2  2016.09.18.a  18-Sep-16  2016  Unprovoked        USA   Florida   \n",
       "3    2016.09.17  17-Sep-16  2016  Unprovoked  AUSTRALIA  Victoria   \n",
       "4    2016.09.15  16-Sep-16  2016  Unprovoked  AUSTRALIA  Victoria   \n",
       "\n",
       "                           location activity sex            age  \\\n",
       "0  New Smyrna Beach, Volusia County  Surfing   M             16   \n",
       "1  New Smyrna Beach, Volusia County  Surfing   M             36   \n",
       "2  New Smyrna Beach, Volusia County  Surfing   M             43   \n",
       "3                  Thirteenth Beach  Surfing   M  NOT AVAILABLE   \n",
       "4                       Bells Beach  Surfing   M  NOT AVAILABLE   \n",
       "\n",
       "                                  injury fatal_yn           time  \\\n",
       "0                  Minor injury to thigh        N          13h00   \n",
       "1                   Lacerations to hands        N          11h00   \n",
       "2               Lacerations to lower leg        N          10h43   \n",
       "3           Struck by fin on chest & leg        N  NOT AVAILABLE   \n",
       "4  No injury: Knocked off board by shark        N  NOT AVAILABLE   \n",
       "\n",
       "         species                                               href  \n",
       "0  NOT AVAILABLE  http://sharkattackfile.net/spreadsheets/pdf_di...  \n",
       "1  NOT AVAILABLE  http://sharkattackfile.net/spreadsheets/pdf_di...  \n",
       "2  NOT AVAILABLE  http://sharkattackfile.net/spreadsheets/pdf_di...  \n",
       "3  NOT AVAILABLE  http://sharkattackfile.net/spreadsheets/pdf_di...  \n",
       "4      2 m shark  http://sharkattackfile.net/spreadsheets/pdf_di...  "
      ]
     },
     "execution_count": 45,
     "metadata": {},
     "output_type": "execute_result"
    }
   ],
   "source": [
    "df.head()"
   ]
  },
  {
   "cell_type": "markdown",
   "metadata": {},
   "source": [
    "# Cleaning the \"time\" column, grouping times by moments of the day."
   ]
  },
  {
   "cell_type": "code",
   "execution_count": 46,
   "metadata": {
    "scrolled": true
   },
   "outputs": [
    {
     "data": {
      "text/html": [
       "<div>\n",
       "<style scoped>\n",
       "    .dataframe tbody tr th:only-of-type {\n",
       "        vertical-align: middle;\n",
       "    }\n",
       "\n",
       "    .dataframe tbody tr th {\n",
       "        vertical-align: top;\n",
       "    }\n",
       "\n",
       "    .dataframe thead th {\n",
       "        text-align: right;\n",
       "    }\n",
       "</style>\n",
       "<table border=\"1\" class=\"dataframe\">\n",
       "  <thead>\n",
       "    <tr style=\"text-align: right;\">\n",
       "      <th></th>\n",
       "      <th>case_number</th>\n",
       "      <th>date</th>\n",
       "      <th>year</th>\n",
       "      <th>type</th>\n",
       "      <th>country</th>\n",
       "      <th>area</th>\n",
       "      <th>location</th>\n",
       "      <th>activity</th>\n",
       "      <th>sex</th>\n",
       "      <th>age</th>\n",
       "      <th>injury</th>\n",
       "      <th>fatal_yn</th>\n",
       "      <th>time</th>\n",
       "      <th>species</th>\n",
       "      <th>href</th>\n",
       "    </tr>\n",
       "  </thead>\n",
       "  <tbody>\n",
       "    <tr>\n",
       "      <th>0</th>\n",
       "      <td>2016.09.18.c</td>\n",
       "      <td>18-Sep-16</td>\n",
       "      <td>2016</td>\n",
       "      <td>Unprovoked</td>\n",
       "      <td>USA</td>\n",
       "      <td>Florida</td>\n",
       "      <td>New Smyrna Beach, Volusia County</td>\n",
       "      <td>Surfing</td>\n",
       "      <td>M</td>\n",
       "      <td>16</td>\n",
       "      <td>Minor injury to thigh</td>\n",
       "      <td>N</td>\n",
       "      <td>13:00</td>\n",
       "      <td>NOT AVAILABLE</td>\n",
       "      <td>http://sharkattackfile.net/spreadsheets/pdf_di...</td>\n",
       "    </tr>\n",
       "    <tr>\n",
       "      <th>1</th>\n",
       "      <td>2016.09.18.b</td>\n",
       "      <td>18-Sep-16</td>\n",
       "      <td>2016</td>\n",
       "      <td>Unprovoked</td>\n",
       "      <td>USA</td>\n",
       "      <td>Florida</td>\n",
       "      <td>New Smyrna Beach, Volusia County</td>\n",
       "      <td>Surfing</td>\n",
       "      <td>M</td>\n",
       "      <td>36</td>\n",
       "      <td>Lacerations to hands</td>\n",
       "      <td>N</td>\n",
       "      <td>11:00</td>\n",
       "      <td>NOT AVAILABLE</td>\n",
       "      <td>http://sharkattackfile.net/spreadsheets/pdf_di...</td>\n",
       "    </tr>\n",
       "    <tr>\n",
       "      <th>2</th>\n",
       "      <td>2016.09.18.a</td>\n",
       "      <td>18-Sep-16</td>\n",
       "      <td>2016</td>\n",
       "      <td>Unprovoked</td>\n",
       "      <td>USA</td>\n",
       "      <td>Florida</td>\n",
       "      <td>New Smyrna Beach, Volusia County</td>\n",
       "      <td>Surfing</td>\n",
       "      <td>M</td>\n",
       "      <td>43</td>\n",
       "      <td>Lacerations to lower leg</td>\n",
       "      <td>N</td>\n",
       "      <td>10:43</td>\n",
       "      <td>NOT AVAILABLE</td>\n",
       "      <td>http://sharkattackfile.net/spreadsheets/pdf_di...</td>\n",
       "    </tr>\n",
       "    <tr>\n",
       "      <th>3</th>\n",
       "      <td>2016.09.17</td>\n",
       "      <td>17-Sep-16</td>\n",
       "      <td>2016</td>\n",
       "      <td>Unprovoked</td>\n",
       "      <td>AUSTRALIA</td>\n",
       "      <td>Victoria</td>\n",
       "      <td>Thirteenth Beach</td>\n",
       "      <td>Surfing</td>\n",
       "      <td>M</td>\n",
       "      <td>NOT AVAILABLE</td>\n",
       "      <td>Struck by fin on chest &amp; leg</td>\n",
       "      <td>N</td>\n",
       "      <td>NOT AVAILABLE</td>\n",
       "      <td>NOT AVAILABLE</td>\n",
       "      <td>http://sharkattackfile.net/spreadsheets/pdf_di...</td>\n",
       "    </tr>\n",
       "    <tr>\n",
       "      <th>4</th>\n",
       "      <td>2016.09.15</td>\n",
       "      <td>16-Sep-16</td>\n",
       "      <td>2016</td>\n",
       "      <td>Unprovoked</td>\n",
       "      <td>AUSTRALIA</td>\n",
       "      <td>Victoria</td>\n",
       "      <td>Bells Beach</td>\n",
       "      <td>Surfing</td>\n",
       "      <td>M</td>\n",
       "      <td>NOT AVAILABLE</td>\n",
       "      <td>No injury: Knocked off board by shark</td>\n",
       "      <td>N</td>\n",
       "      <td>NOT AVAILABLE</td>\n",
       "      <td>2 m shark</td>\n",
       "      <td>http://sharkattackfile.net/spreadsheets/pdf_di...</td>\n",
       "    </tr>\n",
       "  </tbody>\n",
       "</table>\n",
       "</div>"
      ],
      "text/plain": [
       "    case_number       date  year        type    country      area  \\\n",
       "0  2016.09.18.c  18-Sep-16  2016  Unprovoked        USA   Florida   \n",
       "1  2016.09.18.b  18-Sep-16  2016  Unprovoked        USA   Florida   \n",
       "2  2016.09.18.a  18-Sep-16  2016  Unprovoked        USA   Florida   \n",
       "3    2016.09.17  17-Sep-16  2016  Unprovoked  AUSTRALIA  Victoria   \n",
       "4    2016.09.15  16-Sep-16  2016  Unprovoked  AUSTRALIA  Victoria   \n",
       "\n",
       "                           location activity sex            age  \\\n",
       "0  New Smyrna Beach, Volusia County  Surfing   M             16   \n",
       "1  New Smyrna Beach, Volusia County  Surfing   M             36   \n",
       "2  New Smyrna Beach, Volusia County  Surfing   M             43   \n",
       "3                  Thirteenth Beach  Surfing   M  NOT AVAILABLE   \n",
       "4                       Bells Beach  Surfing   M  NOT AVAILABLE   \n",
       "\n",
       "                                  injury fatal_yn           time  \\\n",
       "0                  Minor injury to thigh        N          13:00   \n",
       "1                   Lacerations to hands        N          11:00   \n",
       "2               Lacerations to lower leg        N          10:43   \n",
       "3           Struck by fin on chest & leg        N  NOT AVAILABLE   \n",
       "4  No injury: Knocked off board by shark        N  NOT AVAILABLE   \n",
       "\n",
       "         species                                               href  \n",
       "0  NOT AVAILABLE  http://sharkattackfile.net/spreadsheets/pdf_di...  \n",
       "1  NOT AVAILABLE  http://sharkattackfile.net/spreadsheets/pdf_di...  \n",
       "2  NOT AVAILABLE  http://sharkattackfile.net/spreadsheets/pdf_di...  \n",
       "3  NOT AVAILABLE  http://sharkattackfile.net/spreadsheets/pdf_di...  \n",
       "4      2 m shark  http://sharkattackfile.net/spreadsheets/pdf_di...  "
      ]
     },
     "execution_count": 46,
     "metadata": {},
     "output_type": "execute_result"
    }
   ],
   "source": [
    "df[\"time\"] = df[\"time\"].str.replace(\"h\",\":\")\n",
    "df.head()"
   ]
  },
  {
   "cell_type": "code",
   "execution_count": 47,
   "metadata": {
    "scrolled": true
   },
   "outputs": [
    {
     "data": {
      "text/plain": [
       "NOT AVAILABLE              3111\n",
       "Afternoon                   174\n",
       "11:00                       122\n",
       "Morning                     108\n",
       "12:00                       107\n",
       "15:00                       100\n",
       "14:00                        94\n",
       "16:00                        92\n",
       "16:30                        72\n",
       "13:00                        70\n",
       "14:30                        70\n",
       "17:30                        69\n",
       "17:00                        63\n",
       "15:30                        62\n",
       "18:00                        61\n",
       "11:30                        61\n",
       "Nig:t                        58\n",
       "13:30                        56\n",
       "10:00                        53\n",
       "09:00                        46\n",
       "10:30                        45\n",
       "Evening                      34\n",
       "12:30                        33\n",
       "Late afternoon               31\n",
       "09:30                        31\n",
       "07:30                        30\n",
       "08:00                        28\n",
       "18:30                        27\n",
       "08:30                        25\n",
       "19:00                        23\n",
       "                           ... \n",
       "09:11                         1\n",
       "Before 07:00                  1\n",
       "1600                          1\n",
       "Prior to 10:37                1\n",
       "11:25                         1\n",
       "10:30 or 13:30                1\n",
       "03:45 - 04:00                 1\n",
       "                              1\n",
       "07:08                         1\n",
       "09:30 / 15:30                 1\n",
       "07:10                         1\n",
       "Between 06:00 & 07:20         1\n",
       "13:24                         1\n",
       "06:47                         1\n",
       "Between 05:00 and 08:00       1\n",
       "12:00 to 14:00                1\n",
       "<07:30                        1\n",
       "14:21                         1\n",
       "830                           1\n",
       "02:45                         1\n",
       "18:15-18:30                   1\n",
       "Daybreak                      1\n",
       "Late morning                  1\n",
       ">06:45                        1\n",
       "02:30                         1\n",
       "15:05                         1\n",
       "16:23                         1\n",
       "14:37                         1\n",
       "17:11                         1\n",
       "10:07                         1\n",
       "Name: time, Length: 349, dtype: int64"
      ]
     },
     "execution_count": 47,
     "metadata": {},
     "output_type": "execute_result"
    }
   ],
   "source": [
    "df.time.value_counts()"
   ]
  },
  {
   "cell_type": "code",
   "execution_count": 48,
   "metadata": {},
   "outputs": [],
   "source": [
    "# Trying to use a function I wrote to replace times with moments of the day."
   ]
  },
  {
   "cell_type": "code",
   "execution_count": 49,
   "metadata": {},
   "outputs": [],
   "source": [
    "import re\n",
    "\n",
    "def timereplace(f):\n",
    "    if re.search(\"[0][5-7]:\",f):\n",
    "        f = \"early morning\"\n",
    "    elif (re.search(\"[0][8-9]:\",f)) or (re.search(\"[1][0]:\",f)):\n",
    "        f = \"morning\"\n",
    "    elif re.search(\"[1][1-2]:\",f):\n",
    "        f = \"late morning\"\n",
    "    elif re.search(\"[1][3-7]:\",f):\n",
    "        f= \"afternoon\"\n",
    "    elif re.search(\"[1][8-9]:\",f):\n",
    "        f = \"evening\"\n",
    "    elif re.search(\"[2][0-2]:\",f):\n",
    "        f = \"early night\"\n",
    "    elif re.search(\"[2][3]:\",f) or (re.search(\"[0][0-4]:\",f)):\n",
    "        f = \"night\"\n",
    "    return f"
   ]
  },
  {
   "cell_type": "code",
   "execution_count": 50,
   "metadata": {},
   "outputs": [],
   "source": [
    "df[\"time\"] = df[\"time\"].apply(timereplace)\n",
    "df[\"time\"] = df[\"time\"].str.strip(\"\")\n",
    "df[\"time\"] = df[\"time\"].str.replace(\"Late afternoon\", \"late afternoon\")\n",
    "df[\"time\"] = df[\"time\"].str.replace(\"Afternoon\", \"afternoon\")\n",
    "df[\"time\"] = df[\"time\"].str.replace(\"Morning\", \"morning\")\n",
    "df[\"time\"] = df[\"time\"].str.replace(\"Nig:t\", \"night\")\n"
   ]
  },
  {
   "cell_type": "code",
   "execution_count": 51,
   "metadata": {},
   "outputs": [],
   "source": [
    "df[\"time\"] = df[\"time\"].str.replace(\"Dusk\", \"evening\")\n",
    "df[\"time\"] = df[\"time\"].str.replace(\"Mid afternoon\", \"afternoon\")\n",
    "df[\"time\"] = df[\"time\"].str.replace(\"Dawn\", \"early morning\")"
   ]
  },
  {
   "cell_type": "code",
   "execution_count": 52,
   "metadata": {},
   "outputs": [],
   "source": [
    "#I applied this sort of replacement just by observing the remaining values."
   ]
  },
  {
   "cell_type": "code",
   "execution_count": 53,
   "metadata": {},
   "outputs": [],
   "source": [
    "timevalues = [\"NOT AVAILABLE\", \"afternoon\", \"morning\", \"early morning\", \"late morning\", \"evening\", \"night\", \"early night\", \"late afternoon\",\"early afternoon\"]"
   ]
  },
  {
   "cell_type": "code",
   "execution_count": 54,
   "metadata": {
    "scrolled": true
   },
   "outputs": [
    {
     "data": {
      "text/plain": [
       "NOT AVAILABLE                                                            3111\n",
       "afternoon                                                                1229\n",
       "morning                                                                   472\n",
       "late morning                                                              446\n",
       "evening                                                                   183\n",
       "early morning                                                             125\n",
       "night                                                                      92\n",
       "early night                                                                38\n",
       "Evening                                                                    34\n",
       "late afternoon                                                             31\n",
       "P.M                                                                        12\n",
       "Early morning                                                              12\n",
       "A.M                                                                        12\n",
       "Midday                                                                     10\n",
       "Early afternoon                                                             8\n",
       "--                                                                          5\n",
       "Sunset                                                                      4\n",
       "                                                                            4\n",
       "Midnig:t                                                                    3\n",
       "Just before noon                                                            2\n",
       "Dark                                                                        2\n",
       "AM                                                                          2\n",
       "8:04 PM                                                                     1\n",
       "06j00                                                                       1\n",
       "X                                                                           1\n",
       "S:ortly after midnig:t                                                      1\n",
       "Noon                                                                        1\n",
       "1300                                                                        1\n",
       "Before daybreak                                                             1\n",
       "After dark                                                                  1\n",
       "                                                                         ... \n",
       "Possibly same incident as 2000.08.21                                        1\n",
       "nightfall                                                                   1\n",
       "Late nig:t                                                                  1\n",
       "After lunc:                                                                 1\n",
       "After dusk                                                                  1\n",
       "Just before dawn                                                            1\n",
       "Mid-morning                                                                 1\n",
       "After noon                                                                  1\n",
       "nig:t                                                                       1\n",
       "FATAL  (Wire netting installed at local beac:es after t:is incident.)       1\n",
       "s:ortly before dusk                                                         1\n",
       "30 minutes after 1992.07.08.a                                               1\n",
       "Late afternoon                                                              1\n",
       "Lunc:time                                                                   1\n",
       "After evening                                                               1\n",
       "dusk                                                                        1\n",
       "2 :rs before sunset                                                         1\n",
       "2 :ours after Opperman                                                      1\n",
       "After midnig:t                                                              1\n",
       "                                                                            1\n",
       "Early evening                                                               1\n",
       "1500                                                                        1\n",
       "Just before sundown                                                         1\n",
       "830                                                                         1\n",
       "Daybreak                                                                    1\n",
       "Late morning                                                                1\n",
       "1600                                                                        1\n",
       "15j45                                                                       1\n",
       "Mid morning                                                                 1\n",
       "Daytime                                                                     1\n",
       "Name: time, Length: 62, dtype: int64"
      ]
     },
     "execution_count": 54,
     "metadata": {},
     "output_type": "execute_result"
    }
   ],
   "source": [
    "df.time.value_counts()"
   ]
  },
  {
   "cell_type": "code",
   "execution_count": 55,
   "metadata": {},
   "outputs": [],
   "source": [
    "indexNames = df[(~df[\"time\"].isin(timevalues))].index  #returning index of rows with unusable time\n",
    "df.drop(indexNames , inplace=True)"
   ]
  },
  {
   "cell_type": "code",
   "execution_count": 56,
   "metadata": {
    "scrolled": true
   },
   "outputs": [
    {
     "data": {
      "text/plain": [
       "NOT AVAILABLE     3111\n",
       "afternoon         1229\n",
       "morning            472\n",
       "late morning       446\n",
       "evening            183\n",
       "early morning      125\n",
       "night               92\n",
       "early night         38\n",
       "late afternoon      31\n",
       "Name: time, dtype: int64"
      ]
     },
     "execution_count": 56,
     "metadata": {},
     "output_type": "execute_result"
    }
   ],
   "source": [
    "df.time.value_counts()"
   ]
  },
  {
   "cell_type": "markdown",
   "metadata": {},
   "source": [
    "Time column is clean."
   ]
  },
  {
   "cell_type": "code",
   "execution_count": 57,
   "metadata": {
    "scrolled": true
   },
   "outputs": [
    {
     "data": {
      "text/html": [
       "<div>\n",
       "<style scoped>\n",
       "    .dataframe tbody tr th:only-of-type {\n",
       "        vertical-align: middle;\n",
       "    }\n",
       "\n",
       "    .dataframe tbody tr th {\n",
       "        vertical-align: top;\n",
       "    }\n",
       "\n",
       "    .dataframe thead th {\n",
       "        text-align: right;\n",
       "    }\n",
       "</style>\n",
       "<table border=\"1\" class=\"dataframe\">\n",
       "  <thead>\n",
       "    <tr style=\"text-align: right;\">\n",
       "      <th></th>\n",
       "      <th>case_number</th>\n",
       "      <th>date</th>\n",
       "      <th>year</th>\n",
       "      <th>type</th>\n",
       "      <th>country</th>\n",
       "      <th>area</th>\n",
       "      <th>location</th>\n",
       "      <th>activity</th>\n",
       "      <th>sex</th>\n",
       "      <th>age</th>\n",
       "      <th>injury</th>\n",
       "      <th>fatal_yn</th>\n",
       "      <th>time</th>\n",
       "      <th>species</th>\n",
       "      <th>href</th>\n",
       "    </tr>\n",
       "  </thead>\n",
       "  <tbody>\n",
       "    <tr>\n",
       "      <th>0</th>\n",
       "      <td>2016.09.18.c</td>\n",
       "      <td>18-Sep-16</td>\n",
       "      <td>2016</td>\n",
       "      <td>Unprovoked</td>\n",
       "      <td>USA</td>\n",
       "      <td>Florida</td>\n",
       "      <td>New Smyrna Beach, Volusia County</td>\n",
       "      <td>Surfing</td>\n",
       "      <td>M</td>\n",
       "      <td>16</td>\n",
       "      <td>Minor injury to thigh</td>\n",
       "      <td>N</td>\n",
       "      <td>afternoon</td>\n",
       "      <td>NOT AVAILABLE</td>\n",
       "      <td>http://sharkattackfile.net/spreadsheets/pdf_di...</td>\n",
       "    </tr>\n",
       "    <tr>\n",
       "      <th>1</th>\n",
       "      <td>2016.09.18.b</td>\n",
       "      <td>18-Sep-16</td>\n",
       "      <td>2016</td>\n",
       "      <td>Unprovoked</td>\n",
       "      <td>USA</td>\n",
       "      <td>Florida</td>\n",
       "      <td>New Smyrna Beach, Volusia County</td>\n",
       "      <td>Surfing</td>\n",
       "      <td>M</td>\n",
       "      <td>36</td>\n",
       "      <td>Lacerations to hands</td>\n",
       "      <td>N</td>\n",
       "      <td>late morning</td>\n",
       "      <td>NOT AVAILABLE</td>\n",
       "      <td>http://sharkattackfile.net/spreadsheets/pdf_di...</td>\n",
       "    </tr>\n",
       "    <tr>\n",
       "      <th>2</th>\n",
       "      <td>2016.09.18.a</td>\n",
       "      <td>18-Sep-16</td>\n",
       "      <td>2016</td>\n",
       "      <td>Unprovoked</td>\n",
       "      <td>USA</td>\n",
       "      <td>Florida</td>\n",
       "      <td>New Smyrna Beach, Volusia County</td>\n",
       "      <td>Surfing</td>\n",
       "      <td>M</td>\n",
       "      <td>43</td>\n",
       "      <td>Lacerations to lower leg</td>\n",
       "      <td>N</td>\n",
       "      <td>morning</td>\n",
       "      <td>NOT AVAILABLE</td>\n",
       "      <td>http://sharkattackfile.net/spreadsheets/pdf_di...</td>\n",
       "    </tr>\n",
       "    <tr>\n",
       "      <th>3</th>\n",
       "      <td>2016.09.17</td>\n",
       "      <td>17-Sep-16</td>\n",
       "      <td>2016</td>\n",
       "      <td>Unprovoked</td>\n",
       "      <td>AUSTRALIA</td>\n",
       "      <td>Victoria</td>\n",
       "      <td>Thirteenth Beach</td>\n",
       "      <td>Surfing</td>\n",
       "      <td>M</td>\n",
       "      <td>NOT AVAILABLE</td>\n",
       "      <td>Struck by fin on chest &amp; leg</td>\n",
       "      <td>N</td>\n",
       "      <td>NOT AVAILABLE</td>\n",
       "      <td>NOT AVAILABLE</td>\n",
       "      <td>http://sharkattackfile.net/spreadsheets/pdf_di...</td>\n",
       "    </tr>\n",
       "    <tr>\n",
       "      <th>4</th>\n",
       "      <td>2016.09.15</td>\n",
       "      <td>16-Sep-16</td>\n",
       "      <td>2016</td>\n",
       "      <td>Unprovoked</td>\n",
       "      <td>AUSTRALIA</td>\n",
       "      <td>Victoria</td>\n",
       "      <td>Bells Beach</td>\n",
       "      <td>Surfing</td>\n",
       "      <td>M</td>\n",
       "      <td>NOT AVAILABLE</td>\n",
       "      <td>No injury: Knocked off board by shark</td>\n",
       "      <td>N</td>\n",
       "      <td>NOT AVAILABLE</td>\n",
       "      <td>2 m shark</td>\n",
       "      <td>http://sharkattackfile.net/spreadsheets/pdf_di...</td>\n",
       "    </tr>\n",
       "  </tbody>\n",
       "</table>\n",
       "</div>"
      ],
      "text/plain": [
       "    case_number       date  year        type    country      area  \\\n",
       "0  2016.09.18.c  18-Sep-16  2016  Unprovoked        USA   Florida   \n",
       "1  2016.09.18.b  18-Sep-16  2016  Unprovoked        USA   Florida   \n",
       "2  2016.09.18.a  18-Sep-16  2016  Unprovoked        USA   Florida   \n",
       "3    2016.09.17  17-Sep-16  2016  Unprovoked  AUSTRALIA  Victoria   \n",
       "4    2016.09.15  16-Sep-16  2016  Unprovoked  AUSTRALIA  Victoria   \n",
       "\n",
       "                           location activity sex            age  \\\n",
       "0  New Smyrna Beach, Volusia County  Surfing   M             16   \n",
       "1  New Smyrna Beach, Volusia County  Surfing   M             36   \n",
       "2  New Smyrna Beach, Volusia County  Surfing   M             43   \n",
       "3                  Thirteenth Beach  Surfing   M  NOT AVAILABLE   \n",
       "4                       Bells Beach  Surfing   M  NOT AVAILABLE   \n",
       "\n",
       "                                  injury fatal_yn           time  \\\n",
       "0                  Minor injury to thigh        N      afternoon   \n",
       "1                   Lacerations to hands        N   late morning   \n",
       "2               Lacerations to lower leg        N        morning   \n",
       "3           Struck by fin on chest & leg        N  NOT AVAILABLE   \n",
       "4  No injury: Knocked off board by shark        N  NOT AVAILABLE   \n",
       "\n",
       "         species                                               href  \n",
       "0  NOT AVAILABLE  http://sharkattackfile.net/spreadsheets/pdf_di...  \n",
       "1  NOT AVAILABLE  http://sharkattackfile.net/spreadsheets/pdf_di...  \n",
       "2  NOT AVAILABLE  http://sharkattackfile.net/spreadsheets/pdf_di...  \n",
       "3  NOT AVAILABLE  http://sharkattackfile.net/spreadsheets/pdf_di...  \n",
       "4      2 m shark  http://sharkattackfile.net/spreadsheets/pdf_di...  "
      ]
     },
     "execution_count": 57,
     "metadata": {},
     "output_type": "execute_result"
    }
   ],
   "source": [
    "df.head()\n",
    "\n",
    "#Columns to deal with : area, location, age, injury, species"
   ]
  },
  {
   "cell_type": "markdown",
   "metadata": {},
   "source": [
    "# Dealing with the activity column"
   ]
  },
  {
   "cell_type": "code",
   "execution_count": 58,
   "metadata": {},
   "outputs": [
    {
     "data": {
      "text/plain": [
       "surfing                                                                                                   867\n",
       "swimming                                                                                                  827\n",
       "not available                                                                                             468\n",
       "fishing                                                                                                   411\n",
       "spearfishing                                                                                              316\n",
       "bathing                                                                                                   144\n",
       "wading                                                                                                    138\n",
       "diving                                                                                                    117\n",
       "standing                                                                                                   97\n",
       "scuba diving                                                                                               79\n",
       "snorkeling                                                                                                 76\n",
       "body boarding                                                                                              59\n",
       "body surfing                                                                                               46\n",
       "boogie boarding                                                                                            44\n",
       "pearl diving                                                                                               32\n",
       "treading water                                                                                             31\n",
       "kayaking                                                                                                   29\n",
       "surf skiing                                                                                                29\n",
       "free diving                                                                                                28\n",
       "fell overboard                                                                                             21\n",
       "windsurfing                                                                                                18\n",
       "shark fishing                                                                                              15\n",
       "walking                                                                                                    14\n",
       "rowing                                                                                                     13\n",
       "canoeing                                                                                                   13\n",
       "floating                                                                                                   13\n",
       "sea disaster                                                                                               13\n",
       "surf fishing                                                                                               12\n",
       "kayak fishing                                                                                              12\n",
       "fishing for sharks                                                                                         11\n",
       "                                                                                                         ... \n",
       "free diving & spearfishing (descending)                                                                     1\n",
       "surf fishing, wading                                                                                        1\n",
       "swimming, attacked at  surf carnival                                                                        1\n",
       "fishing with dynamite, afterwards in water retrieving catch                                                 1\n",
       "dog paddling or standing                                                                                    1\n",
       "pearl diving, but standing in the water                                                                     1\n",
       "removing shark from a trap                                                                                  1\n",
       "marathon swimming                                                                                           1\n",
       "swimming behind sailboat                                                                                    1\n",
       "fell or jumped overboard from the liner rhynland                                                            1\n",
       "paddling a surfboat                                                                                         1\n",
       "the coastwise steamer san basilio capsized in a typhoon                                                     1\n",
       "jumped off surfboard & landed on the shark                                                                  1\n",
       "surfing, sitting on board                                                                                   1\n",
       "diving (helmet) for sponges                                                                                 1\n",
       "u 177 torpedoed & sank the troopship nova scotia                                                            1\n",
       "swimming after falling overboard                                                                            1\n",
       "dragging stranded shark into deeper water                                                                   1\n",
       "floating, after falling or jumping off the standard oil tanker frederick w. weller                          1\n",
       "on boat, preparing to dive                                                                                  1\n",
       "standing in chest deep water                                                                                1\n",
       "survived us naval aircraft crash, climbing onboard rescue vessel when he fell back into sea                 1\n",
       "crossing the river                                                                                          1\n",
       "swimming (lead swimmer in race)                                                                             1\n",
       "ship's boat capsized in squall, captain & 2 sailors clinging onto hull                                      1\n",
       "scallop diving (using surface supplied air & a pod)                                                         1\n",
       "hunting seals                                                                                               1\n",
       "flying fortress bomber aircraft went down after daytime raid on naples. he was swimming on the surface      1\n",
       "fishing from shore, washed into the sea                                                                     1\n",
       "a barque wrecked                                                                                            1\n",
       "Name: activity, Length: 1393, dtype: int64"
      ]
     },
     "execution_count": 58,
     "metadata": {},
     "output_type": "execute_result"
    }
   ],
   "source": [
    "df[\"activity\"]=df[\"activity\"].str.strip().str.lower().str.replace(\"-\",\" \")\n",
    "df.activity.value_counts()\n"
   ]
  },
  {
   "cell_type": "code",
   "execution_count": 59,
   "metadata": {},
   "outputs": [],
   "source": [
    "def replaceactivity(mystring):\n",
    "    if (\"body surfing\" in mystring) or (\"boogie boarding\" in mystring):\n",
    "        mystring = \"body surfing\"\n",
    "    elif \"surf\" in mystring:\n",
    "        mystring = \"surfing\"\n",
    "    elif (\"walking\" in mystring) or (\"paddling\" in mystring):\n",
    "        mystring = \"wading\"\n",
    "    elif \"treading water\" in mystring:\n",
    "        mystring=\"swimming\"\n",
    "    elif (\"fall\" in mystring) or (\"fell\" in mystring) or (\"rescue\" in mystring) or (\"capsize\" in mystring) or (\"shipwreck\" in mystring) or (\"adrift\"in mystring):\n",
    "        mystring = \"sea disaster\"\n",
    "    elif (\"kayak\" in mystring) or (\"canoe\" in mystring) or (\"rowing\" in mystring):\n",
    "        mystring = \"in row boat\"\n",
    "    elif (\"diving for\" in mystring) or (\"pearl\" in mystring):\n",
    "        mystring = \"diving for fish/pearls\"\n",
    "    elif (\"spearfish\" in mystring):\n",
    "        mystring = \"spearfishing\"\n",
    "    elif (\"snorkel\" in mystring):\n",
    "        mystring = \"snorkelling\"\n",
    "    elif (\"fishing for\" in mystring):\n",
    "        mystring = \"fishing\"\n",
    "    elif (\"floating\" in mystring):\n",
    "        mystring = \"floating\"\n",
    "    return mystring"
   ]
  },
  {
   "cell_type": "code",
   "execution_count": 60,
   "metadata": {},
   "outputs": [],
   "source": [
    "df[\"activity\"] = df[\"activity\"].apply(replaceactivity)"
   ]
  },
  {
   "cell_type": "code",
   "execution_count": 61,
   "metadata": {},
   "outputs": [],
   "source": [
    "# Making activities more homogenous."
   ]
  },
  {
   "cell_type": "code",
   "execution_count": 62,
   "metadata": {},
   "outputs": [
    {
     "data": {
      "text/plain": [
       "surfing                                                                                                         1083\n",
       "swimming                                                                                                         866\n",
       "fishing                                                                                                          476\n",
       "not available                                                                                                    468\n",
       "spearfishing                                                                                                     395\n",
       "sea disaster                                                                                                     207\n",
       "wading                                                                                                           166\n",
       "bathing                                                                                                          144\n",
       "diving for fish/pearls                                                                                           123\n",
       "diving                                                                                                           117\n",
       "body surfing                                                                                                     106\n",
       "standing                                                                                                          97\n",
       "in row boat                                                                                                       97\n",
       "snorkelling                                                                                                       86\n",
       "scuba diving                                                                                                      79\n",
       "body boarding                                                                                                     59\n",
       "floating                                                                                                          44\n",
       "free diving                                                                                                       28\n",
       "shark fishing                                                                                                     15\n",
       "sponge diving                                                                                                     10\n",
       "wade fishing                                                                                                      10\n",
       "freediving                                                                                                        10\n",
       "paddle boarding                                                                                                    9\n",
       "freedom swimming                                                                                                   8\n",
       "sailing                                                                                                            8\n",
       "playing                                                                                                            8\n",
       "skindiving                                                                                                         7\n",
       "splashing                                                                                                          6\n",
       "boating                                                                                                            5\n",
       "murder                                                                                                             5\n",
       "                                                                                                                ... \n",
       "fishing (big game)                                                                                                 1\n",
       "uss hoel dd 533 sunk on 10/24/1944 in the battle off samar. 2 crewmen were swimmng alongside a floater net &       1\n",
       "s.s. ramos foundered in a hurricane. captain & 14 crew in water logged lifeboats                                   1\n",
       "dived into the water                                                                                               1\n",
       "plane forced down, 3 men on rubber life raft. put hand over side to feel drift of boat                             1\n",
       "scallop diving on hookah                                                                                           1\n",
       "spent 8 days in dinghy                                                                                             1\n",
       "the dwarka foundered                                                                                               1\n",
       "crew swimming alongside their anchored ship                                                                        1\n",
       "preparing to fish for jack mackerel                                                                                1\n",
       "swimming 3 miles offshore                                                                                          1\n",
       "diving & fishing with net                                                                                          1\n",
       "hunting seals                                                                                                      1\n",
       "sittting in water with his child                                                                                   1\n",
       "swimming (lead swimmer in race)                                                                                    1\n",
       "crossing the river                                                                                                 1\n",
       "standing in chest deep water                                                                                       1\n",
       "preparing to go skin diving                                                                                        1\n",
       "on boat, preparing to dive                                                                                         1\n",
       "dragging stranded shark into deeper water                                                                          1\n",
       "fishing (trolling)                                                                                                 1\n",
       "bathing in 5' of water                                                                                             1\n",
       "diving (helmet) for sponges                                                                                        1\n",
       "swimming to avoid capture                                                                                          1\n",
       "italian liner principessa mafalda sank                                                                             1\n",
       "wading near a fishing net                                                                                          1\n",
       "fishing, hauling in a 5 lb snapper                                                                                 1\n",
       "swimming from fishing boat setting nets                                                                            1\n",
       "netting menhaden, sharks caught in net                                                                             1\n",
       "yacht gooney bird foundered, 4 survivors on raft                                                                   1\n",
       "Name: activity, Length: 884, dtype: int64"
      ]
     },
     "execution_count": 62,
     "metadata": {},
     "output_type": "execute_result"
    }
   ],
   "source": [
    "df.activity.value_counts()"
   ]
  },
  {
   "cell_type": "code",
   "execution_count": null,
   "metadata": {},
   "outputs": [],
   "source": []
  },
  {
   "cell_type": "markdown",
   "metadata": {},
   "source": [
    "# Dealing with age column"
   ]
  },
  {
   "cell_type": "code",
   "execution_count": 63,
   "metadata": {
    "scrolled": true
   },
   "outputs": [
    {
     "data": {
      "text/plain": [
       "NOT AVAILABLE              2536\n",
       "17                          142\n",
       "18                          140\n",
       "16                          132\n",
       "20                          132\n",
       "19                          132\n",
       "15                          130\n",
       "22                          110\n",
       "21                          109\n",
       "24                           98\n",
       "25                           95\n",
       "14                           94\n",
       "13                           88\n",
       "27                           76\n",
       "26                           76\n",
       "23                           75\n",
       "29                           73\n",
       "28                           73\n",
       "30                           71\n",
       "12                           68\n",
       "35                           59\n",
       "32                           59\n",
       "40                           50\n",
       "10                           49\n",
       "31                           47\n",
       "38                           46\n",
       "34                           45\n",
       "43                           42\n",
       "36                           41\n",
       "33                           40\n",
       "                           ... \n",
       "86                            1\n",
       "60s                           1\n",
       "9 or 10                       1\n",
       "32 & 30                       1\n",
       "20?                           1\n",
       "31 or 33                      1\n",
       "16 to 18                      1\n",
       "2 to 3 months                 1\n",
       "9 months                      1\n",
       "46 & 34                       1\n",
       "72                            1\n",
       "18 to 22                      1\n",
       "9 & 12                        1\n",
       "67                            1\n",
       "? & 19                        1\n",
       "36 & 23                       1\n",
       "18 or 20                      1\n",
       "84                            1\n",
       "2½                            1\n",
       "34 & 19                       1\n",
       "87                            1\n",
       "17 & 35                       1\n",
       "X                             1\n",
       "33 & 26                       1\n",
       "25 or 28                      1\n",
       "mid-30s                       1\n",
       "73                            1\n",
       "Ca. 33                        1\n",
       "37, 67, 35, 27,  ? & 27       1\n",
       ">50                           1\n",
       "Name: age, Length: 149, dtype: int64"
      ]
     },
     "execution_count": 63,
     "metadata": {},
     "output_type": "execute_result"
    }
   ],
   "source": [
    "df.age.value_counts()"
   ]
  },
  {
   "cell_type": "code",
   "execution_count": 64,
   "metadata": {},
   "outputs": [],
   "source": [
    "def agereplace(agestr):\n",
    "    if re.search(\"[0-9][0-9]\",agestr):    #checking if there is a match with double digit age\n",
    "        m = re.search(\"[0-9][0-9]\", agestr)  # if there is, return the match\n",
    "        result = m.group(0) \n",
    "        agestr = result #switch the original text to the match\n",
    "    return agestr"
   ]
  },
  {
   "cell_type": "code",
   "execution_count": 65,
   "metadata": {},
   "outputs": [
    {
     "data": {
      "text/html": [
       "<div>\n",
       "<style scoped>\n",
       "    .dataframe tbody tr th:only-of-type {\n",
       "        vertical-align: middle;\n",
       "    }\n",
       "\n",
       "    .dataframe tbody tr th {\n",
       "        vertical-align: top;\n",
       "    }\n",
       "\n",
       "    .dataframe thead th {\n",
       "        text-align: right;\n",
       "    }\n",
       "</style>\n",
       "<table border=\"1\" class=\"dataframe\">\n",
       "  <thead>\n",
       "    <tr style=\"text-align: right;\">\n",
       "      <th></th>\n",
       "      <th>case_number</th>\n",
       "      <th>date</th>\n",
       "      <th>year</th>\n",
       "      <th>type</th>\n",
       "      <th>country</th>\n",
       "      <th>area</th>\n",
       "      <th>location</th>\n",
       "      <th>activity</th>\n",
       "      <th>sex</th>\n",
       "      <th>age</th>\n",
       "      <th>injury</th>\n",
       "      <th>fatal_yn</th>\n",
       "      <th>time</th>\n",
       "      <th>species</th>\n",
       "      <th>href</th>\n",
       "    </tr>\n",
       "  </thead>\n",
       "  <tbody>\n",
       "    <tr>\n",
       "      <th>0</th>\n",
       "      <td>2016.09.18.c</td>\n",
       "      <td>18-Sep-16</td>\n",
       "      <td>2016</td>\n",
       "      <td>Unprovoked</td>\n",
       "      <td>USA</td>\n",
       "      <td>Florida</td>\n",
       "      <td>New Smyrna Beach, Volusia County</td>\n",
       "      <td>surfing</td>\n",
       "      <td>M</td>\n",
       "      <td>16</td>\n",
       "      <td>Minor injury to thigh</td>\n",
       "      <td>N</td>\n",
       "      <td>afternoon</td>\n",
       "      <td>NOT AVAILABLE</td>\n",
       "      <td>http://sharkattackfile.net/spreadsheets/pdf_di...</td>\n",
       "    </tr>\n",
       "    <tr>\n",
       "      <th>1</th>\n",
       "      <td>2016.09.18.b</td>\n",
       "      <td>18-Sep-16</td>\n",
       "      <td>2016</td>\n",
       "      <td>Unprovoked</td>\n",
       "      <td>USA</td>\n",
       "      <td>Florida</td>\n",
       "      <td>New Smyrna Beach, Volusia County</td>\n",
       "      <td>surfing</td>\n",
       "      <td>M</td>\n",
       "      <td>36</td>\n",
       "      <td>Lacerations to hands</td>\n",
       "      <td>N</td>\n",
       "      <td>late morning</td>\n",
       "      <td>NOT AVAILABLE</td>\n",
       "      <td>http://sharkattackfile.net/spreadsheets/pdf_di...</td>\n",
       "    </tr>\n",
       "    <tr>\n",
       "      <th>2</th>\n",
       "      <td>2016.09.18.a</td>\n",
       "      <td>18-Sep-16</td>\n",
       "      <td>2016</td>\n",
       "      <td>Unprovoked</td>\n",
       "      <td>USA</td>\n",
       "      <td>Florida</td>\n",
       "      <td>New Smyrna Beach, Volusia County</td>\n",
       "      <td>surfing</td>\n",
       "      <td>M</td>\n",
       "      <td>43</td>\n",
       "      <td>Lacerations to lower leg</td>\n",
       "      <td>N</td>\n",
       "      <td>morning</td>\n",
       "      <td>NOT AVAILABLE</td>\n",
       "      <td>http://sharkattackfile.net/spreadsheets/pdf_di...</td>\n",
       "    </tr>\n",
       "    <tr>\n",
       "      <th>3</th>\n",
       "      <td>2016.09.17</td>\n",
       "      <td>17-Sep-16</td>\n",
       "      <td>2016</td>\n",
       "      <td>Unprovoked</td>\n",
       "      <td>AUSTRALIA</td>\n",
       "      <td>Victoria</td>\n",
       "      <td>Thirteenth Beach</td>\n",
       "      <td>surfing</td>\n",
       "      <td>M</td>\n",
       "      <td>NOT AVAILABLE</td>\n",
       "      <td>Struck by fin on chest &amp; leg</td>\n",
       "      <td>N</td>\n",
       "      <td>NOT AVAILABLE</td>\n",
       "      <td>NOT AVAILABLE</td>\n",
       "      <td>http://sharkattackfile.net/spreadsheets/pdf_di...</td>\n",
       "    </tr>\n",
       "    <tr>\n",
       "      <th>4</th>\n",
       "      <td>2016.09.15</td>\n",
       "      <td>16-Sep-16</td>\n",
       "      <td>2016</td>\n",
       "      <td>Unprovoked</td>\n",
       "      <td>AUSTRALIA</td>\n",
       "      <td>Victoria</td>\n",
       "      <td>Bells Beach</td>\n",
       "      <td>surfing</td>\n",
       "      <td>M</td>\n",
       "      <td>NOT AVAILABLE</td>\n",
       "      <td>No injury: Knocked off board by shark</td>\n",
       "      <td>N</td>\n",
       "      <td>NOT AVAILABLE</td>\n",
       "      <td>2 m shark</td>\n",
       "      <td>http://sharkattackfile.net/spreadsheets/pdf_di...</td>\n",
       "    </tr>\n",
       "  </tbody>\n",
       "</table>\n",
       "</div>"
      ],
      "text/plain": [
       "    case_number       date  year        type    country      area  \\\n",
       "0  2016.09.18.c  18-Sep-16  2016  Unprovoked        USA   Florida   \n",
       "1  2016.09.18.b  18-Sep-16  2016  Unprovoked        USA   Florida   \n",
       "2  2016.09.18.a  18-Sep-16  2016  Unprovoked        USA   Florida   \n",
       "3    2016.09.17  17-Sep-16  2016  Unprovoked  AUSTRALIA  Victoria   \n",
       "4    2016.09.15  16-Sep-16  2016  Unprovoked  AUSTRALIA  Victoria   \n",
       "\n",
       "                           location activity sex            age  \\\n",
       "0  New Smyrna Beach, Volusia County  surfing   M             16   \n",
       "1  New Smyrna Beach, Volusia County  surfing   M             36   \n",
       "2  New Smyrna Beach, Volusia County  surfing   M             43   \n",
       "3                  Thirteenth Beach  surfing   M  NOT AVAILABLE   \n",
       "4                       Bells Beach  surfing   M  NOT AVAILABLE   \n",
       "\n",
       "                                  injury fatal_yn           time  \\\n",
       "0                  Minor injury to thigh        N      afternoon   \n",
       "1                   Lacerations to hands        N   late morning   \n",
       "2               Lacerations to lower leg        N        morning   \n",
       "3           Struck by fin on chest & leg        N  NOT AVAILABLE   \n",
       "4  No injury: Knocked off board by shark        N  NOT AVAILABLE   \n",
       "\n",
       "         species                                               href  \n",
       "0  NOT AVAILABLE  http://sharkattackfile.net/spreadsheets/pdf_di...  \n",
       "1  NOT AVAILABLE  http://sharkattackfile.net/spreadsheets/pdf_di...  \n",
       "2  NOT AVAILABLE  http://sharkattackfile.net/spreadsheets/pdf_di...  \n",
       "3  NOT AVAILABLE  http://sharkattackfile.net/spreadsheets/pdf_di...  \n",
       "4      2 m shark  http://sharkattackfile.net/spreadsheets/pdf_di...  "
      ]
     },
     "execution_count": 65,
     "metadata": {},
     "output_type": "execute_result"
    }
   ],
   "source": [
    "df.head()"
   ]
  },
  {
   "cell_type": "code",
   "execution_count": 66,
   "metadata": {},
   "outputs": [],
   "source": [
    "df[\"age\"] = df[\"age\"].apply(agereplace)"
   ]
  },
  {
   "cell_type": "code",
   "execution_count": 67,
   "metadata": {},
   "outputs": [
    {
     "data": {
      "text/plain": [
       "NOT AVAILABLE      2536\n",
       "17                  144\n",
       "18                  143\n",
       "20                  139\n",
       "19                  133\n",
       "16                  133\n",
       "15                  130\n",
       "21                  112\n",
       "22                  110\n",
       "24                   98\n",
       "25                   97\n",
       "14                   95\n",
       "13                   90\n",
       "30                   80\n",
       "23                   77\n",
       "26                   76\n",
       "27                   76\n",
       "28                   75\n",
       "29                   73\n",
       "12                   70\n",
       "32                   60\n",
       "35                   59\n",
       "10                   53\n",
       "40                   52\n",
       "31                   49\n",
       "38                   46\n",
       "34                   46\n",
       "33                   44\n",
       "36                   43\n",
       "43                   42\n",
       "                   ... \n",
       "64                    3\n",
       "66                    3\n",
       "77                    3\n",
       "78                    2\n",
       "75                    2\n",
       "74                    2\n",
       "F                     2\n",
       "2 to 3 months         1\n",
       "middle-age            1\n",
       "81                    1\n",
       "7 or 8                1\n",
       "Elderly               1\n",
       "(adult)               1\n",
       "adult                 1\n",
       "A.M                   1\n",
       "1                     1\n",
       "MAKE LINE GREEN       1\n",
       "M                     1\n",
       "Teens                 1\n",
       "                      1\n",
       "73                    1\n",
       "87                    1\n",
       "2½                    1\n",
       "84                    1\n",
       "6½                    1\n",
       "9 months              1\n",
       "67                    1\n",
       "X                     1\n",
       "72                    1\n",
       "86                    1\n",
       "Name: age, Length: 100, dtype: int64"
      ]
     },
     "execution_count": 67,
     "metadata": {},
     "output_type": "execute_result"
    }
   ],
   "source": [
    "df[\"age\"].value_counts()"
   ]
  },
  {
   "cell_type": "code",
   "execution_count": 68,
   "metadata": {},
   "outputs": [],
   "source": [
    "# 1st big mistake: completely emptying the age column. Filled with None. Not sure how ??"
   ]
  },
  {
   "cell_type": "code",
   "execution_count": 72,
   "metadata": {
    "scrolled": true
   },
   "outputs": [
    {
     "data": {
      "text/plain": [
       "NOT AVAILABLE      2536\n",
       "18-24               812\n",
       "25-34               676\n",
       "12-17               675\n",
       "35-44               413\n",
       "45-54               245\n",
       "under 12            197\n",
       "55-64               110\n",
       "65-74                35\n",
       "75 and over          11\n",
       "young                 3\n",
       "                      3\n",
       "F                     2\n",
       "                      1\n",
       "X                     1\n",
       "middle-age            1\n",
       "(adult)               1\n",
       "A.M                   1\n",
       "M                     1\n",
       "MAKE LINE GREEN       1\n",
       "adult                 1\n",
       "Elderly               1\n",
       "Name: age, dtype: int64"
      ]
     },
     "execution_count": 72,
     "metadata": {},
     "output_type": "execute_result"
    }
   ],
   "source": [
    "df[\"age\"] = df[\"age\"].apply(agereplace2)\n",
    "df[\"age\"].value_counts()"
   ]
  },
  {
   "cell_type": "code",
   "execution_count": 73,
   "metadata": {},
   "outputs": [],
   "source": [
    "df[\"age\"]= df[\"age\"].str.replace(\"Teens\",\"12-17\").str.replace(\"Teen\",\"12-17\").str.replace(\"teen\",\"12-17\")"
   ]
  },
  {
   "cell_type": "code",
   "execution_count": 74,
   "metadata": {},
   "outputs": [],
   "source": [
    "df[\"age\"]= df[\"age\"].str.replace(\"young\",\"12-17\").str.replace(\"Teen\",\"12-17\").str.replace(\"teen\",\"12-17\")"
   ]
  },
  {
   "cell_type": "code",
   "execution_count": 75,
   "metadata": {},
   "outputs": [],
   "source": [
    "df[\"age\"]= df[\"age\"].str.strip(\" \\\"()\")"
   ]
  },
  {
   "cell_type": "code",
   "execution_count": 76,
   "metadata": {},
   "outputs": [],
   "source": [
    "agegroups = [\"NOT AVAILABLE\",\"18-24\", \"12-17\",\"25-34\",\"35-44\",\"45-54\",\"under 12\",\"55-64\",\"65-74\",\"75 and over\"]"
   ]
  },
  {
   "cell_type": "code",
   "execution_count": 77,
   "metadata": {},
   "outputs": [],
   "source": [
    "indexNames = df[(~df[\"age\"].isin(agegroups))].index  #returning index of rows with unusable time\n",
    "df.drop(indexNames , inplace=True)"
   ]
  },
  {
   "cell_type": "code",
   "execution_count": 78,
   "metadata": {
    "scrolled": false
   },
   "outputs": [
    {
     "data": {
      "text/plain": [
       "NOT AVAILABLE    2536\n",
       "18-24             812\n",
       "12-17             678\n",
       "25-34             676\n",
       "35-44             413\n",
       "45-54             245\n",
       "under 12          197\n",
       "55-64             110\n",
       "65-74              35\n",
       "75 and over        11\n",
       "Name: age, dtype: int64"
      ]
     },
     "execution_count": 78,
     "metadata": {},
     "output_type": "execute_result"
    }
   ],
   "source": [
    "df.age.value_counts()"
   ]
  },
  {
   "cell_type": "code",
   "execution_count": 79,
   "metadata": {},
   "outputs": [],
   "source": [
    "# Age column is clean."
   ]
  },
  {
   "cell_type": "code",
   "execution_count": 80,
   "metadata": {},
   "outputs": [],
   "source": [
    "def agereplace2(agestr):\n",
    "    if re.search(\"[1-1][2-7]\",agestr):     \n",
    "        agestr = \"12-17\" #switch the original text to the match\n",
    "    elif re.search(\"[1-1][8-9]\",agestr) or re.search(\"[2-2][0-4]\",agestr) : \n",
    "        agestr = \"18-24\" \n",
    "    elif re.search(\"[2-2][5-9]\",agestr) or re.search(\"[3-3][0-4]\",agestr):    \n",
    "        agestr = \"25-34\"\n",
    "    elif re.search(\"[3-3][5-9]\",agestr) or re.search(\"[4-4][0-4]\",agestr):    \n",
    "        agestr = \"35-44\"\n",
    "    elif re.search(\"[4-4][5-9]\",agestr) or re.search(\"[5-5][0-4]\",agestr) :     \n",
    "        agestr = \"45-54\"\n",
    "    elif re.search(\"[5-5][5-9]\",agestr) or re.search(\"[6-6][0-4]\",agestr):    \n",
    "        agestr = \"55-64\"\n",
    "    elif re.search(\"[6-6][5-9]\",agestr) or re.search(\"[7-7][0-4]\",agestr):    \n",
    "        agestr = \"65-74\"\n",
    "    elif re.search(\"[7-7][5-9]\",agestr) or re.search(\"[8-9][0-9]\",agestr) :    \n",
    "        agestr = \"75 and over\"\n",
    "    elif re.search(\"[\\d\\b]\",agestr) or re.search(\"[1-1][0-1]\",agestr):    \n",
    "        agestr = \"under 12\"\n",
    "    return agestr"
   ]
  },
  {
   "cell_type": "markdown",
   "metadata": {},
   "source": [
    "Ideas:\n",
    "\n",
    "\n",
    "Grouping geographical locations : trying to use geograpy library, had to import nltk, debugging installation etc, but doesn't seem to work.\n",
    "\n"
   ]
  },
  {
   "cell_type": "code",
   "execution_count": 81,
   "metadata": {
    "scrolled": true
   },
   "outputs": [
    {
     "data": {
      "text/html": [
       "<div>\n",
       "<style scoped>\n",
       "    .dataframe tbody tr th:only-of-type {\n",
       "        vertical-align: middle;\n",
       "    }\n",
       "\n",
       "    .dataframe tbody tr th {\n",
       "        vertical-align: top;\n",
       "    }\n",
       "\n",
       "    .dataframe thead th {\n",
       "        text-align: right;\n",
       "    }\n",
       "</style>\n",
       "<table border=\"1\" class=\"dataframe\">\n",
       "  <thead>\n",
       "    <tr style=\"text-align: right;\">\n",
       "      <th></th>\n",
       "      <th>case_number</th>\n",
       "      <th>date</th>\n",
       "      <th>year</th>\n",
       "      <th>type</th>\n",
       "      <th>country</th>\n",
       "      <th>area</th>\n",
       "      <th>location</th>\n",
       "      <th>activity</th>\n",
       "      <th>sex</th>\n",
       "      <th>age</th>\n",
       "      <th>injury</th>\n",
       "      <th>fatal_yn</th>\n",
       "      <th>time</th>\n",
       "      <th>species</th>\n",
       "      <th>href</th>\n",
       "    </tr>\n",
       "  </thead>\n",
       "  <tbody>\n",
       "    <tr>\n",
       "      <th>0</th>\n",
       "      <td>2016.09.18.c</td>\n",
       "      <td>18-Sep-16</td>\n",
       "      <td>2016</td>\n",
       "      <td>Unprovoked</td>\n",
       "      <td>USA</td>\n",
       "      <td>Florida</td>\n",
       "      <td>New Smyrna Beach, Volusia County</td>\n",
       "      <td>surfing</td>\n",
       "      <td>M</td>\n",
       "      <td>12-17</td>\n",
       "      <td>Minor injury to thigh</td>\n",
       "      <td>N</td>\n",
       "      <td>afternoon</td>\n",
       "      <td>NOT AVAILABLE</td>\n",
       "      <td>http://sharkattackfile.net/spreadsheets/pdf_di...</td>\n",
       "    </tr>\n",
       "    <tr>\n",
       "      <th>1</th>\n",
       "      <td>2016.09.18.b</td>\n",
       "      <td>18-Sep-16</td>\n",
       "      <td>2016</td>\n",
       "      <td>Unprovoked</td>\n",
       "      <td>USA</td>\n",
       "      <td>Florida</td>\n",
       "      <td>New Smyrna Beach, Volusia County</td>\n",
       "      <td>surfing</td>\n",
       "      <td>M</td>\n",
       "      <td>35-44</td>\n",
       "      <td>Lacerations to hands</td>\n",
       "      <td>N</td>\n",
       "      <td>late morning</td>\n",
       "      <td>NOT AVAILABLE</td>\n",
       "      <td>http://sharkattackfile.net/spreadsheets/pdf_di...</td>\n",
       "    </tr>\n",
       "    <tr>\n",
       "      <th>2</th>\n",
       "      <td>2016.09.18.a</td>\n",
       "      <td>18-Sep-16</td>\n",
       "      <td>2016</td>\n",
       "      <td>Unprovoked</td>\n",
       "      <td>USA</td>\n",
       "      <td>Florida</td>\n",
       "      <td>New Smyrna Beach, Volusia County</td>\n",
       "      <td>surfing</td>\n",
       "      <td>M</td>\n",
       "      <td>35-44</td>\n",
       "      <td>Lacerations to lower leg</td>\n",
       "      <td>N</td>\n",
       "      <td>morning</td>\n",
       "      <td>NOT AVAILABLE</td>\n",
       "      <td>http://sharkattackfile.net/spreadsheets/pdf_di...</td>\n",
       "    </tr>\n",
       "    <tr>\n",
       "      <th>3</th>\n",
       "      <td>2016.09.17</td>\n",
       "      <td>17-Sep-16</td>\n",
       "      <td>2016</td>\n",
       "      <td>Unprovoked</td>\n",
       "      <td>AUSTRALIA</td>\n",
       "      <td>Victoria</td>\n",
       "      <td>Thirteenth Beach</td>\n",
       "      <td>surfing</td>\n",
       "      <td>M</td>\n",
       "      <td>NOT AVAILABLE</td>\n",
       "      <td>Struck by fin on chest &amp; leg</td>\n",
       "      <td>N</td>\n",
       "      <td>NOT AVAILABLE</td>\n",
       "      <td>NOT AVAILABLE</td>\n",
       "      <td>http://sharkattackfile.net/spreadsheets/pdf_di...</td>\n",
       "    </tr>\n",
       "    <tr>\n",
       "      <th>4</th>\n",
       "      <td>2016.09.15</td>\n",
       "      <td>16-Sep-16</td>\n",
       "      <td>2016</td>\n",
       "      <td>Unprovoked</td>\n",
       "      <td>AUSTRALIA</td>\n",
       "      <td>Victoria</td>\n",
       "      <td>Bells Beach</td>\n",
       "      <td>surfing</td>\n",
       "      <td>M</td>\n",
       "      <td>NOT AVAILABLE</td>\n",
       "      <td>No injury: Knocked off board by shark</td>\n",
       "      <td>N</td>\n",
       "      <td>NOT AVAILABLE</td>\n",
       "      <td>2 m shark</td>\n",
       "      <td>http://sharkattackfile.net/spreadsheets/pdf_di...</td>\n",
       "    </tr>\n",
       "  </tbody>\n",
       "</table>\n",
       "</div>"
      ],
      "text/plain": [
       "    case_number       date  year        type    country      area  \\\n",
       "0  2016.09.18.c  18-Sep-16  2016  Unprovoked        USA   Florida   \n",
       "1  2016.09.18.b  18-Sep-16  2016  Unprovoked        USA   Florida   \n",
       "2  2016.09.18.a  18-Sep-16  2016  Unprovoked        USA   Florida   \n",
       "3    2016.09.17  17-Sep-16  2016  Unprovoked  AUSTRALIA  Victoria   \n",
       "4    2016.09.15  16-Sep-16  2016  Unprovoked  AUSTRALIA  Victoria   \n",
       "\n",
       "                           location activity sex            age  \\\n",
       "0  New Smyrna Beach, Volusia County  surfing   M          12-17   \n",
       "1  New Smyrna Beach, Volusia County  surfing   M          35-44   \n",
       "2  New Smyrna Beach, Volusia County  surfing   M          35-44   \n",
       "3                  Thirteenth Beach  surfing   M  NOT AVAILABLE   \n",
       "4                       Bells Beach  surfing   M  NOT AVAILABLE   \n",
       "\n",
       "                                  injury fatal_yn           time  \\\n",
       "0                  Minor injury to thigh        N      afternoon   \n",
       "1                   Lacerations to hands        N   late morning   \n",
       "2               Lacerations to lower leg        N        morning   \n",
       "3           Struck by fin on chest & leg        N  NOT AVAILABLE   \n",
       "4  No injury: Knocked off board by shark        N  NOT AVAILABLE   \n",
       "\n",
       "         species                                               href  \n",
       "0  NOT AVAILABLE  http://sharkattackfile.net/spreadsheets/pdf_di...  \n",
       "1  NOT AVAILABLE  http://sharkattackfile.net/spreadsheets/pdf_di...  \n",
       "2  NOT AVAILABLE  http://sharkattackfile.net/spreadsheets/pdf_di...  \n",
       "3  NOT AVAILABLE  http://sharkattackfile.net/spreadsheets/pdf_di...  \n",
       "4      2 m shark  http://sharkattackfile.net/spreadsheets/pdf_di...  "
      ]
     },
     "execution_count": 81,
     "metadata": {},
     "output_type": "execute_result"
    }
   ],
   "source": [
    "df.head()"
   ]
  },
  {
   "cell_type": "markdown",
   "metadata": {},
   "source": [
    "# Injury column\n",
    "\n",
    "Dropping column but replacing it with 2 news columns : body part attacked AND type of injury.\n",
    "\"Fatality\" is already covered in \"FATAL_YN\" column."
   ]
  },
  {
   "cell_type": "code",
   "execution_count": 82,
   "metadata": {},
   "outputs": [
    {
     "data": {
      "text/plain": [
       "FATAL                                                                                            714\n",
       "Survived                                                                                          96\n",
       "Foot bitten                                                                                       80\n",
       "No injury                                                                                         74\n",
       "Leg bitten                                                                                        72\n",
       "Left foot bitten                                                                                  49\n",
       "Right foot bitten                                                                                 39\n",
       "Hand bitten                                                                                       30\n",
       "No injury, board bitten                                                                           27\n",
       "Thigh bitten                                                                                      26\n",
       "FATAL, body not recovered                                                                         25\n",
       "Minor injury                                                                                      23\n",
       "Foot lacerated                                                                                    22\n",
       "Right leg bitten                                                                                  20\n",
       "Calf bitten                                                                                       20\n",
       "Arm bitten                                                                                        19\n",
       "Lacerations to foot                                                                               17\n",
       "Ankle bitten                                                                                      17\n",
       "Lacerations to right foot                                                                         15\n",
       "Foot severed                                                                                      14\n",
       "Right thigh bitten                                                                                14\n",
       "FATAL, leg severed                                                                                14\n",
       "Lacerations to left foot                                                                          14\n",
       "Heel bitten                                                                                       13\n",
       "Right calf bitten                                                                                 13\n",
       "No injury to occupants                                                                            13\n",
       "Left leg bitten                                                                                   13\n",
       "Left arm bitten                                                                                   13\n",
       "Leg lacerated                                                                                     12\n",
       "No injury, surfboard bitten                                                                       12\n",
       "                                                                                                ... \n",
       "FATAL, leg lacerated                                                                               1\n",
       "No injury, shark struk sufer's leg and his board                                                   1\n",
       "Bitten on left hand                                                                                1\n",
       "3\" laceration to left forearm                                                                      1\n",
       "3 m to 3.7 m [10' to 12']  great hammerhead shark shark only made a threat display. No injury      1\n",
       "Bruised shoulder chest & foot                                                                      1\n",
       "FATAL, lost a leg                                                                                  1\n",
       "Back & thighs lacerated                                                                            1\n",
       "No injury, canoe bitten by shark                                                                   1\n",
       "FATAL, 6 men were taken by sharks as they neared the beach, 1 survived                             1\n",
       "No injury, shark collided with diver                                                               1\n",
       "No injury to occupants; shark rammed, bit & sank boat                                              1\n",
       "3 fingers severed when he used his hand as bait                                                    1\n",
       "No injury to fisherman Alf Dean & other occupants; shark bit stern of boat                         1\n",
       "Left arm, hips & leg lacerated                                                                     1\n",
       "Leg & foot lacerated                                                                               1\n",
       "PROVOKED INCIDENT?                                                                                 1\n",
       "Right shin & toe lacerated                                                                         1\n",
       "Left ankle nipped (3 punctures wounds)                                                             1\n",
       "FATAL, both legs severed                                                                           1\n",
       "Foot bitten, tendons damaged                                                                       1\n",
       "Left arm bitten, developed gangrene, surgically amputated                                          1\n",
       "Thigh bitten when he trod on the shark PROVOKED INCIDENT                                           1\n",
       "He tried to hit shark with paddle, shark bumped  ski  PROVOKED INCIDENT                            1\n",
       "55  perished, some were  taken by sharks                                                           1\n",
       "No injury, swim fin shredded                                                                       1\n",
       "Minor laceration to left foot                                                                      1\n",
       "No injury, shark bit oar                                                                           1\n",
       "Injuries to left thigh                                                                             1\n",
       "FATAL, left forearm severed                                                                        1\n",
       "Name: injury, Length: 3408, dtype: int64"
      ]
     },
     "execution_count": 82,
     "metadata": {},
     "output_type": "execute_result"
    }
   ],
   "source": [
    "df.injury.value_counts()"
   ]
  },
  {
   "cell_type": "code",
   "execution_count": 83,
   "metadata": {},
   "outputs": [],
   "source": [
    "def bodypart(strg):\n",
    "    lower_limb = [\"shin\",\"foot\", \"feet\", \"ankle\", \"knee\", \"leg\", \"thigh\", \"calf\", \"calves\",\"heel\",\"toe\", \"buttock\"]\n",
    "    upper_limb = [\"hand\", \"arm\", \"finger\", \"wrist\", \"elbow\", \"shoulder\"]\n",
    "    abdomen = [\"torso\", \"abdomen\",\"chest\",\"groin\",\"hip\"]\n",
    "    head = [\"head\", \"neck\", \"face\",\"cheek\"]\n",
    "    lst = [lower_limb, upper_limb, abdomen, head]\n",
    "    name_list = [\"lower limbs\", \"upper limbs\", \"abdomen\", \"head or neck\"]\n",
    "    import re\n",
    "    \n",
    "    for i in range(len(lst)):\n",
    "        if re.compile('|'.join(lst[i]),re.IGNORECASE).search(strg): \n",
    "            strg = name_list[i]\n",
    "    if \"no injury\" in strg :\n",
    "        strg = \"no injury\"\n",
    "    \n",
    "    return strg"
   ]
  },
  {
   "cell_type": "code",
   "execution_count": 84,
   "metadata": {},
   "outputs": [],
   "source": [
    "df[\"body_area_attacked\"] = df[\"injury\"].str.lower().apply(bodypart)"
   ]
  },
  {
   "cell_type": "code",
   "execution_count": 85,
   "metadata": {},
   "outputs": [
    {
     "data": {
      "text/plain": [
       "lower limbs                                                                                                                                                                        2426\n",
       "upper limbs                                                                                                                                                                         838\n",
       "fatal                                                                                                                                                                               715\n",
       "no injury                                                                                                                                                                           696\n",
       "abdomen                                                                                                                                                                             112\n",
       "survived                                                                                                                                                                             96\n",
       "head or neck                                                                                                                                                                         58\n",
       "fatal, body not recovered                                                                                                                                                            25\n",
       "minor injury                                                                                                                                                                         23\n",
       "minor injuries                                                                                                                                                                       11\n",
       "probable drowning & scavenging                                                                                                                                                        8\n",
       "swim fin bitten                                                                                                                                                                       6\n",
       "lacerations                                                                                                                                                                           6\n",
       "fatal x 2                                                                                                                                                                             6\n",
       "recovered                                                                                                                                                                             6\n",
       "provoked incident                                                                                                                                                                     5\n",
       "shark involvement prior to death unconfirmed                                                                                                                                          5\n",
       "presumed fatal, body not recovered                                                                                                                                                    4\n",
       "non-fatal                                                                                                                                                                             4\n",
       "probable drowning / scavenging                                                                                                                                                        4\n",
       "shark involvement prior to death was not confirmed                                                                                                                                    4\n",
       "fatal, body was not recovered                                                                                                                                                         4\n",
       "abrasion                                                                                                                                                                              3\n",
       "multiple injuries                                                                                                                                                                     3\n",
       "missing, believed taken by a shark                                                                                                                                                    3\n",
       "fatal, but shark involvement prior to death was not determined                                                                                                                        3\n",
       "probable drowning with post-mortem bites                                                                                                                                              3\n",
       "fatal, \"bitten in two                                                                                                                                                                 3\n",
       "shark bites were post-mortem                                                                                                                                                          3\n",
       "death may have been due to drowning                                                                                                                                                   3\n",
       "                                                                                                                                                                                   ... \n",
       "limbs severed                                                                                                                                                                         1\n",
       "although this incident is listed elsewhere as a shark attack, the account of the disaster suggests the 4 who perished probably drowned. five people survived                          1\n",
       "fatal, dragged out of diving helmet                                                                                                                                                   1\n",
       "severely bitten                                                                                                                                                                       1\n",
       "multiple lacerations to back                                                                                                                                                          1\n",
       "fatal, drowned or crushed when harpooned shark smashed their boat provoked incident                                                                                                   1\n",
       "shark leapt onboard & into fishwell, tossing a crew member, pepino, in the sea                                                                                                        1\n",
       "shark rammed boat provoked incident                                                                                                                                                   1\n",
       "fatal disappeared while diving, bathing suit & diving gear recovered bore marks of shark's teeth                                                                                      1\n",
       "clinton was bitten on his back, 2 others did not survive                                                                                                                              1\n",
       "disappeared, thought to have been taken by a shark                                                                                                                                    1\n",
       "lacerations to left foream                                                                                                                                                            1\n",
       "fatal disappeared. his board washed ashore next morning with crescent-shaped piece missing and serrated toothmarks of a shark                                                         1\n",
       "no inujury to occupant. shark bit boat repeatedly, leaving  2 teeth in the bottom keel of the boat                                                                                    1\n",
       "fatal, decapitated                                                                                                                                                                    1\n",
       "human remains recovered in shark caught off anguilla, probable scavenging on drowned body                                                                                             1\n",
       "considered a doubtful incident                                                                                                                                                        1\n",
       "bruised but otherwise unhurt                                                                                                                                                          1\n",
       "probable drowing. shark involvement unconfirmed                                                                                                                                       1\n",
       "killed by a shark or crocodile                                                                                                                                                        1\n",
       "bitten twice                                                                                                                                                                          1\n",
       "disappeared & his torn clothing washed ashore                                                                                                                                         1\n",
       "boat followed shark; shark holed boat                                                                                                                                                 1\n",
       "shark jumped into cockpit                                                                                                                                                             1\n",
       "injured by sharks, but managed to swim ashore 6.5 hours later                                                                                                                         1\n",
       "presumed fatal disappeared, his shark-bitten swim trunks were found on the seafloor                                                                                                   1\n",
       "over a period of a week men in the water died of wounds, thirst & sharks. george sullivan, the last of the sullivan brothers, survived for 5 days & then was killed by 3 sharks       1\n",
       "shark scavenged on his corpse                                                                                                                                                         1\n",
       "several broken ribs                                                                                                                                                                   1\n",
       "fatal, injured while diving, then shark bit her                                                                                                                                       1\n",
       "Name: body_area_attacked, Length: 622, dtype: int64"
      ]
     },
     "execution_count": 85,
     "metadata": {},
     "output_type": "execute_result"
    }
   ],
   "source": [
    "df.body_area_attacked.value_counts()"
   ]
  },
  {
   "cell_type": "code",
   "execution_count": 86,
   "metadata": {},
   "outputs": [],
   "source": [
    "def bodypart2(strg):\n",
    "    \n",
    "    name_list = [\"lower limbs\", \"upper limbs\", \"abdomen\", \"head or neck\", \"no injury\"]\n",
    "    import re\n",
    "    \n",
    "    if not re.compile('|'.join(name_list),re.IGNORECASE).search(strg): \n",
    "        strg = \"NOT AVAILABLE\"\n",
    "\n",
    "    \n",
    "    return strg"
   ]
  },
  {
   "cell_type": "code",
   "execution_count": 87,
   "metadata": {},
   "outputs": [],
   "source": [
    "df[\"body_area_attacked\"] = df[\"body_area_attacked\"].apply(bodypart2)"
   ]
  },
  {
   "cell_type": "code",
   "execution_count": 88,
   "metadata": {
    "scrolled": true
   },
   "outputs": [
    {
     "data": {
      "text/html": [
       "<div>\n",
       "<style scoped>\n",
       "    .dataframe tbody tr th:only-of-type {\n",
       "        vertical-align: middle;\n",
       "    }\n",
       "\n",
       "    .dataframe tbody tr th {\n",
       "        vertical-align: top;\n",
       "    }\n",
       "\n",
       "    .dataframe thead th {\n",
       "        text-align: right;\n",
       "    }\n",
       "</style>\n",
       "<table border=\"1\" class=\"dataframe\">\n",
       "  <thead>\n",
       "    <tr style=\"text-align: right;\">\n",
       "      <th></th>\n",
       "      <th>case_number</th>\n",
       "      <th>date</th>\n",
       "      <th>year</th>\n",
       "      <th>type</th>\n",
       "      <th>country</th>\n",
       "      <th>area</th>\n",
       "      <th>location</th>\n",
       "      <th>activity</th>\n",
       "      <th>sex</th>\n",
       "      <th>age</th>\n",
       "      <th>injury</th>\n",
       "      <th>fatal_yn</th>\n",
       "      <th>time</th>\n",
       "      <th>species</th>\n",
       "      <th>href</th>\n",
       "      <th>body_area_attacked</th>\n",
       "    </tr>\n",
       "  </thead>\n",
       "  <tbody>\n",
       "    <tr>\n",
       "      <th>0</th>\n",
       "      <td>2016.09.18.c</td>\n",
       "      <td>18-Sep-16</td>\n",
       "      <td>2016</td>\n",
       "      <td>Unprovoked</td>\n",
       "      <td>USA</td>\n",
       "      <td>Florida</td>\n",
       "      <td>New Smyrna Beach, Volusia County</td>\n",
       "      <td>surfing</td>\n",
       "      <td>M</td>\n",
       "      <td>12-17</td>\n",
       "      <td>Minor injury to thigh</td>\n",
       "      <td>N</td>\n",
       "      <td>afternoon</td>\n",
       "      <td>NOT AVAILABLE</td>\n",
       "      <td>http://sharkattackfile.net/spreadsheets/pdf_di...</td>\n",
       "      <td>lower limbs</td>\n",
       "    </tr>\n",
       "    <tr>\n",
       "      <th>1</th>\n",
       "      <td>2016.09.18.b</td>\n",
       "      <td>18-Sep-16</td>\n",
       "      <td>2016</td>\n",
       "      <td>Unprovoked</td>\n",
       "      <td>USA</td>\n",
       "      <td>Florida</td>\n",
       "      <td>New Smyrna Beach, Volusia County</td>\n",
       "      <td>surfing</td>\n",
       "      <td>M</td>\n",
       "      <td>35-44</td>\n",
       "      <td>Lacerations to hands</td>\n",
       "      <td>N</td>\n",
       "      <td>late morning</td>\n",
       "      <td>NOT AVAILABLE</td>\n",
       "      <td>http://sharkattackfile.net/spreadsheets/pdf_di...</td>\n",
       "      <td>upper limbs</td>\n",
       "    </tr>\n",
       "    <tr>\n",
       "      <th>2</th>\n",
       "      <td>2016.09.18.a</td>\n",
       "      <td>18-Sep-16</td>\n",
       "      <td>2016</td>\n",
       "      <td>Unprovoked</td>\n",
       "      <td>USA</td>\n",
       "      <td>Florida</td>\n",
       "      <td>New Smyrna Beach, Volusia County</td>\n",
       "      <td>surfing</td>\n",
       "      <td>M</td>\n",
       "      <td>35-44</td>\n",
       "      <td>Lacerations to lower leg</td>\n",
       "      <td>N</td>\n",
       "      <td>morning</td>\n",
       "      <td>NOT AVAILABLE</td>\n",
       "      <td>http://sharkattackfile.net/spreadsheets/pdf_di...</td>\n",
       "      <td>lower limbs</td>\n",
       "    </tr>\n",
       "    <tr>\n",
       "      <th>3</th>\n",
       "      <td>2016.09.17</td>\n",
       "      <td>17-Sep-16</td>\n",
       "      <td>2016</td>\n",
       "      <td>Unprovoked</td>\n",
       "      <td>AUSTRALIA</td>\n",
       "      <td>Victoria</td>\n",
       "      <td>Thirteenth Beach</td>\n",
       "      <td>surfing</td>\n",
       "      <td>M</td>\n",
       "      <td>NOT AVAILABLE</td>\n",
       "      <td>Struck by fin on chest &amp; leg</td>\n",
       "      <td>N</td>\n",
       "      <td>NOT AVAILABLE</td>\n",
       "      <td>NOT AVAILABLE</td>\n",
       "      <td>http://sharkattackfile.net/spreadsheets/pdf_di...</td>\n",
       "      <td>lower limbs</td>\n",
       "    </tr>\n",
       "    <tr>\n",
       "      <th>4</th>\n",
       "      <td>2016.09.15</td>\n",
       "      <td>16-Sep-16</td>\n",
       "      <td>2016</td>\n",
       "      <td>Unprovoked</td>\n",
       "      <td>AUSTRALIA</td>\n",
       "      <td>Victoria</td>\n",
       "      <td>Bells Beach</td>\n",
       "      <td>surfing</td>\n",
       "      <td>M</td>\n",
       "      <td>NOT AVAILABLE</td>\n",
       "      <td>No injury: Knocked off board by shark</td>\n",
       "      <td>N</td>\n",
       "      <td>NOT AVAILABLE</td>\n",
       "      <td>2 m shark</td>\n",
       "      <td>http://sharkattackfile.net/spreadsheets/pdf_di...</td>\n",
       "      <td>no injury</td>\n",
       "    </tr>\n",
       "  </tbody>\n",
       "</table>\n",
       "</div>"
      ],
      "text/plain": [
       "    case_number       date  year        type    country      area  \\\n",
       "0  2016.09.18.c  18-Sep-16  2016  Unprovoked        USA   Florida   \n",
       "1  2016.09.18.b  18-Sep-16  2016  Unprovoked        USA   Florida   \n",
       "2  2016.09.18.a  18-Sep-16  2016  Unprovoked        USA   Florida   \n",
       "3    2016.09.17  17-Sep-16  2016  Unprovoked  AUSTRALIA  Victoria   \n",
       "4    2016.09.15  16-Sep-16  2016  Unprovoked  AUSTRALIA  Victoria   \n",
       "\n",
       "                           location activity sex            age  \\\n",
       "0  New Smyrna Beach, Volusia County  surfing   M          12-17   \n",
       "1  New Smyrna Beach, Volusia County  surfing   M          35-44   \n",
       "2  New Smyrna Beach, Volusia County  surfing   M          35-44   \n",
       "3                  Thirteenth Beach  surfing   M  NOT AVAILABLE   \n",
       "4                       Bells Beach  surfing   M  NOT AVAILABLE   \n",
       "\n",
       "                                  injury fatal_yn           time  \\\n",
       "0                  Minor injury to thigh        N      afternoon   \n",
       "1                   Lacerations to hands        N   late morning   \n",
       "2               Lacerations to lower leg        N        morning   \n",
       "3           Struck by fin on chest & leg        N  NOT AVAILABLE   \n",
       "4  No injury: Knocked off board by shark        N  NOT AVAILABLE   \n",
       "\n",
       "         species                                               href  \\\n",
       "0  NOT AVAILABLE  http://sharkattackfile.net/spreadsheets/pdf_di...   \n",
       "1  NOT AVAILABLE  http://sharkattackfile.net/spreadsheets/pdf_di...   \n",
       "2  NOT AVAILABLE  http://sharkattackfile.net/spreadsheets/pdf_di...   \n",
       "3  NOT AVAILABLE  http://sharkattackfile.net/spreadsheets/pdf_di...   \n",
       "4      2 m shark  http://sharkattackfile.net/spreadsheets/pdf_di...   \n",
       "\n",
       "  body_area_attacked  \n",
       "0        lower limbs  \n",
       "1        upper limbs  \n",
       "2        lower limbs  \n",
       "3        lower limbs  \n",
       "4          no injury  "
      ]
     },
     "execution_count": 88,
     "metadata": {},
     "output_type": "execute_result"
    }
   ],
   "source": [
    "df.head()"
   ]
  },
  {
   "cell_type": "code",
   "execution_count": 89,
   "metadata": {},
   "outputs": [],
   "source": [
    "# Creating a \"type of injury\" column."
   ]
  },
  {
   "cell_type": "code",
   "execution_count": 90,
   "metadata": {},
   "outputs": [],
   "source": [
    "def typeinjury(strg):\n",
    "    \n",
    "    if \"bit\" in strg :\n",
    "        strg = \"bite\"\n",
    "    elif \"lacerat\" in strg :\n",
    "        strg = \"lacerations\"\n",
    "    elif \"severed\" in strg:\n",
    "        strg = \"severed body part\"\n",
    "    elif \"no injury\" in strg:\n",
    "        strg = \"no injury\"\n",
    "    elif \"strike\" in strg or \"struck\" in strg:\n",
    "        strg = \"strike\"\n",
    "    else :\n",
    "        strg = \"NOT AVAILABLE\"\n",
    "    \n",
    "    return strg"
   ]
  },
  {
   "cell_type": "code",
   "execution_count": 91,
   "metadata": {},
   "outputs": [],
   "source": [
    "df[\"type_of_injury\"] = df[\"injury\"].str.lower().apply(typeinjury)"
   ]
  },
  {
   "cell_type": "code",
   "execution_count": 92,
   "metadata": {},
   "outputs": [
    {
     "data": {
      "text/plain": [
       "NOT AVAILABLE        2034\n",
       "bite                 1753\n",
       "lacerations          1195\n",
       "no injury             506\n",
       "severed body part     214\n",
       "strike                 11\n",
       "Name: type_of_injury, dtype: int64"
      ]
     },
     "execution_count": 92,
     "metadata": {},
     "output_type": "execute_result"
    }
   ],
   "source": [
    "df.type_of_injury.value_counts()"
   ]
  },
  {
   "cell_type": "code",
   "execution_count": 93,
   "metadata": {},
   "outputs": [],
   "source": [
    "df = df.drop(\"injury\", axis=1)"
   ]
  },
  {
   "cell_type": "code",
   "execution_count": 94,
   "metadata": {},
   "outputs": [
    {
     "data": {
      "text/plain": [
       "1957                         11\n",
       "1942                          9\n",
       "1956                          7\n",
       "1958                          7\n",
       "1950                          7\n",
       "1949                          6\n",
       "1941                          6\n",
       "No date                       6\n",
       "1959                          5\n",
       "12-Apr-01                     5\n",
       "No date, Before 1963          5\n",
       "Oct-60                        5\n",
       "28-Jul-95                     5\n",
       "Aug-56                        5\n",
       "1954                          5\n",
       "1970s                         5\n",
       "05-Oct-03                     5\n",
       "1938                          4\n",
       "09-Jul-94                     4\n",
       "14-Jun-12                     4\n",
       "1961                          4\n",
       "27-Jul-52                     4\n",
       "20-Sep-15                     4\n",
       "1898                          4\n",
       "1960s                         4\n",
       "27-Dec-08                     4\n",
       "1952                          4\n",
       "1960                          4\n",
       "1876                          4\n",
       "23-Jan-70                     4\n",
       "                             ..\n",
       "04-Oct-98                     1\n",
       "04-May-11                     1\n",
       "17-Mar-26                     1\n",
       "04-Mar-56                     1\n",
       "23-Decp1896                   1\n",
       "Reported      19-Aug-1993     1\n",
       "01-Jun-11                     1\n",
       "Late Aug-1905                 1\n",
       "02-Nov-89                     1\n",
       "18-Oct-24                     1\n",
       "Jul-67                        1\n",
       "02-May-13                     1\n",
       "Reported 18-Mar-1999          1\n",
       "16-Mar-75                     1\n",
       "1896-1913                     1\n",
       "Summer 1974                   1\n",
       "Aug-55                        1\n",
       "07-Mar-94                     1\n",
       "22-Jun-03                     1\n",
       "19-Sep-45                     1\n",
       "14-May-08                     1\n",
       "15-Jul-64                     1\n",
       "05-Apr-62                     1\n",
       "13-Nov-35                     1\n",
       "08-Jun-98                     1\n",
       "30-Nov-69                     1\n",
       "17-Nov-26                     1\n",
       "13-Sep-95                     1\n",
       "Reported 31-Jul-1911          1\n",
       "10-Mar-05                     1\n",
       "Name: date, Length: 4914, dtype: int64"
      ]
     },
     "execution_count": 94,
     "metadata": {},
     "output_type": "execute_result"
    }
   ],
   "source": [
    "df.date.value_counts()"
   ]
  },
  {
   "cell_type": "markdown",
   "metadata": {},
   "source": [
    "# Reorganizing and renaming columns"
   ]
  },
  {
   "cell_type": "code",
   "execution_count": 287,
   "metadata": {},
   "outputs": [],
   "source": [
    "df.columns = df.columns.str.upper()"
   ]
  },
  {
   "cell_type": "code",
   "execution_count": 290,
   "metadata": {},
   "outputs": [],
   "source": [
    "df = df.rename(columns={'TYPE': 'PROVOCATION'})"
   ]
  },
  {
   "cell_type": "code",
   "execution_count": 291,
   "metadata": {
    "scrolled": true
   },
   "outputs": [
    {
     "data": {
      "text/plain": [
       "Index(['CASE_NUMBER', 'DATE', 'YEAR', 'PROVOCATION', 'COUNTRY', 'AREA',\n",
       "       'LOCATION', 'ACTIVITY', 'SEX', 'AGE', 'FATAL_YN', 'TIME', 'SPECIES',\n",
       "       'HREF', 'BODY_AREA_ATTACKED', 'TYPE_OF_INJURY'],\n",
       "      dtype='object')"
      ]
     },
     "execution_count": 291,
     "metadata": {},
     "output_type": "execute_result"
    }
   ],
   "source": [
    "df.columns"
   ]
  },
  {
   "cell_type": "code",
   "execution_count": 293,
   "metadata": {},
   "outputs": [
    {
     "data": {
      "text/plain": [
       "(5712, 16)"
      ]
     },
     "execution_count": 293,
     "metadata": {},
     "output_type": "execute_result"
    }
   ],
   "source": [
    "df.shape"
   ]
  },
  {
   "cell_type": "code",
   "execution_count": 295,
   "metadata": {},
   "outputs": [],
   "source": [
    "df = df[[\"CASE_NUMBER\",\"HREF\",\"YEAR\", \"DATE\",\"TIME\",\"COUNTRY\",\"AREA\",\"LOCATION\",\"SPECIES\",\"PROVOCATION\",\"ACTIVITY\",'SEX', 'AGE', 'FATAL_YN','BODY_AREA_ATTACKED', 'TYPE_OF_INJURY' ]]"
   ]
  },
  {
   "cell_type": "markdown",
   "metadata": {},
   "source": [
    "# Exporting to csv"
   ]
  },
  {
   "cell_type": "code",
   "execution_count": 296,
   "metadata": {},
   "outputs": [],
   "source": [
    "df.to_csv(r\"C:\\Users\\Arty\\Desktop\\julia\\IronHack\\Docs pedago\\data-labs\\module-1\\pandas-project\\your-code\\pandas_sharks.csv\")"
   ]
  }
 ],
 "metadata": {
  "kernelspec": {
   "display_name": "Python 3",
   "language": "python",
   "name": "python3"
  },
  "language_info": {
   "codemirror_mode": {
    "name": "ipython",
    "version": 3
   },
   "file_extension": ".py",
   "mimetype": "text/x-python",
   "name": "python",
   "nbconvert_exporter": "python",
   "pygments_lexer": "ipython3",
   "version": "3.7.3"
  }
 },
 "nbformat": 4,
 "nbformat_minor": 2
}
